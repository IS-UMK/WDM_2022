{
 "cells": [
  {
   "cell_type": "markdown",
   "metadata": {
    "slideshow": {
     "slide_type": "slide"
    }
   },
   "source": [
    "# 4. Wstępne przetwarzanie danych\n",
    "\n",
    "\n",
    "Przed przystąpieniem do analizy dane należy odpowiednio przygotować\n",
    "* usunięcie błędów wynikające z metody pomiaru lub niepoprawnej akwizycji\n",
    "* usunięcie wartości niezgodnych ze zbiorem danych i naszą wiedzą o domenie problemu\n",
    "* wartości odstające (_outlayers_)\n",
    "* wartości brakujące\n",
    "* powtórzenia pomiarów (duplikaty)\n",
    "* przygotowanie zmiennych: standaryzacja, normalizacja, uciąglanie, dyskretyzacja, ..."
   ]
  },
  {
   "cell_type": "markdown",
   "metadata": {
    "slideshow": {
     "slide_type": "slide"
    }
   },
   "source": [
    "## Dane Iris\n",
    "\n",
    "Dane Iris zawierają pomiary rozmiarów płatków (petal) oraz rozmiarów liści kielicha (sepal) dokonanych dla 3 odmian Irysów: Setosa, Virginica i Versicolor\n",
    "\n",
    "<img src=\"https://s3.amazonaws.com/assets.datacamp.com/blog_assets/Machine+Learning+R/iris-machinelearning.png\" alt=\"drawing\" width=\"400\"/>\n",
    "\n",
    "Dane można porać z adresu https://www.is.umk.pl/~grochu/wdm/files/iris-data.csv lub z katalogu z danymi w repozytorium ``dane/iris-data.csv``\n"
   ]
  },
  {
   "cell_type": "code",
   "execution_count": null,
   "metadata": {
    "slideshow": {
     "slide_type": "slide"
    }
   },
   "outputs": [],
   "source": [
    "import pandas as pd\n",
    "\n",
    "iris = pd.read_csv('https://www.is.umk.pl/~grochu/wdm/files/iris-data.csv')\n",
    "\n",
    "print('Ilość przypadków = %d' % (iris.shape[0]))\n",
    "print('Ilość zmiennych = %d' % (iris.shape[1]))\n",
    "iris.head()        # wyswielimy pięc pierwszch wierszy"
   ]
  },
  {
   "cell_type": "markdown",
   "metadata": {
    "slideshow": {
     "slide_type": "slide"
    }
   },
   "source": [
    "## Brakujące wartości\n",
    "\n",
    "Na pierwszy rzut oka wszystko wydaje się być w porządku. Niemniej jednak pierwsze co powinniśmy sprawdzić to to czy w pliku nie ma braków danych. W tabeli Pandas takie wartości są reprezentowane za pomocą wartości `null`. Sprawdźmy, czy mamy takie dane w pliku za pomocą metody `isnull()`"
   ]
  },
  {
   "cell_type": "code",
   "execution_count": null,
   "metadata": {},
   "outputs": [],
   "source": [
    "iris.isnull()"
   ]
  },
  {
   "cell_type": "code",
   "execution_count": null,
   "metadata": {},
   "outputs": [],
   "source": [
    "iris.isnull().values.any()"
   ]
  },
  {
   "cell_type": "markdown",
   "metadata": {
    "slideshow": {
     "slide_type": "slide"
    }
   },
   "source": [
    "Wygląda na to, że w danych są brakujące wartości. Sprawdźmy ile ich jest w każdej ze zmiennych."
   ]
  },
  {
   "cell_type": "code",
   "execution_count": null,
   "metadata": {},
   "outputs": [],
   "source": [
    "iris.isnull().sum()"
   ]
  },
  {
   "cell_type": "markdown",
   "metadata": {},
   "source": [
    "Zobaczmy także jakiego typu są zmienne."
   ]
  },
  {
   "cell_type": "code",
   "execution_count": null,
   "metadata": {},
   "outputs": [],
   "source": [
    "iris.info()"
   ]
  },
  {
   "cell_type": "markdown",
   "metadata": {
    "slideshow": {
     "slide_type": "slide"
    }
   },
   "source": [
    "Pierwsza zmienna powinna zawierać wartości numeryczne a jest reprezentowana jako `object`. Najprawdopodobniej w pliku występuje pewna wartość, która nie jest liczbą, dlatego Pandas zaimportował te wartości do typu `object` (w postaci napisów). Spróbujmy zamienić tą zmienną na zmienną numeryczną za pomocą metody `to_numeric()`. Argument  `errors='coerce'` sprawia, że  wszystkie problematyczne wartości zostaną zamienione na NaN."
   ]
  },
  {
   "cell_type": "code",
   "execution_count": null,
   "metadata": {},
   "outputs": [],
   "source": [
    "sepal_numeric = pd.to_numeric(iris['sepal_length_cm'], errors='coerce')\n",
    "\n",
    "print('Typ zmiennej: %s' % sepal_numeric.dtype)\n",
    "\n",
    "# print(sepal_numeric)\n",
    "\n",
    "import numpy as np\n",
    "np.where(sepal_numeric.isna() == True)    # indeksy brakujących wartości "
   ]
  },
  {
   "cell_type": "markdown",
   "metadata": {
    "slideshow": {
     "slide_type": "slide"
    }
   },
   "source": [
    "Sprawdźmy, co było problemem. "
   ]
  },
  {
   "cell_type": "code",
   "execution_count": null,
   "metadata": {},
   "outputs": [],
   "source": [
    "iris[sepal_numeric.isna()]"
   ]
  },
  {
   "cell_type": "markdown",
   "metadata": {},
   "source": [
    "Okazuje się, że dwie wartości w pliku zamiast liczby zawierały znak zapytania (`?`).\n",
    "\n",
    "Wstawmy poprawioną zmienną we właściwe miejsce w danych."
   ]
  },
  {
   "cell_type": "code",
   "execution_count": null,
   "metadata": {},
   "outputs": [],
   "source": [
    "iris.sepal_length_cm = sepal_numeric\n",
    "iris.info()"
   ]
  },
  {
   "cell_type": "markdown",
   "metadata": {
    "slideshow": {
     "slide_type": "slide"
    }
   },
   "source": [
    "## Uzupełnianie wartości brakujących\n",
    "\n",
    "Jeżeli zależy nam na zachowaniu pomiarów zawierających braki to możemy spróbować wypełnić je odpowiednimi wartościami, np. takimi, które wydają się najbardziej prawdopodobne, tj. wartością średnią zmiennej lub wartością modalną. Wypełnianie braków zrealizowane może być funkcją ``fillna()``"
   ]
  },
  {
   "cell_type": "code",
   "execution_count": null,
   "metadata": {},
   "outputs": [],
   "source": [
    "sepal_lenght_mean = sepal_numeric.mean()\n",
    "\n",
    "print('Wartość średnia zmiennej', sepal_lenght_mean)\n",
    "\n",
    "iris.sepal_length_cm = iris['sepal_length_cm'].fillna(sepal_lenght_mean)\n",
    "\n",
    "iris.sepal_length_cm.isna().values.any()"
   ]
  },
  {
   "cell_type": "markdown",
   "metadata": {
    "slideshow": {
     "slide_type": "slide"
    }
   },
   "source": [
    "## Usuwanie wartości brakujących \n",
    "\n",
    "Jednak najczęściej będziemy chcieli się pozbyć pomiarów posiadających brakujące dane. W przypadku, gdy danych jest dostatecznie dużo nie będzie to miało istotnego wpływu na wynik analizy. \n",
    "\n",
    "Usuńmy przypadki, które posiadają braki za pomocą metody `dropna()`.\n"
   ]
  },
  {
   "cell_type": "code",
   "execution_count": null,
   "metadata": {},
   "outputs": [],
   "source": [
    "print(\"Obecnie w danych jest %d przypadków\" % iris.shape[0])\n",
    "\n",
    "iris = iris.dropna()     # usuwanie wierszy zawierających wartości NaN\n",
    "\n",
    "print(\"Po usunięciu braków pozostało %d przypadków\" %  iris.shape[0])\n",
    "iris.isna().any()"
   ]
  },
  {
   "cell_type": "markdown",
   "metadata": {
    "slideshow": {
     "slide_type": "slide"
    }
   },
   "source": [
    "## Wartości odstające i inne anomalie\n",
    "\n",
    "\n",
    "Wypiszmy podstawowe statystyki o danych i sprawdźmy czy występują tam inne anomalie."
   ]
  },
  {
   "cell_type": "code",
   "execution_count": null,
   "metadata": {},
   "outputs": [],
   "source": [
    "iris.describe()"
   ]
  },
  {
   "cell_type": "markdown",
   "metadata": {},
   "source": [
    "Dzięki tego typu tabelkom możemy sprawdzić podstawowe informacje o danych oraz sprawdzić czy pomiary  nie przekraczają rozsądnych przedziałów dla poszczególnych cech.\n",
    "\n",
    "Cecha `sepal_length_cm` posiada podejrzanie małą wartość minimalną (0.055 cm), zaś wartość minimalna zmiennej `sepal_width_cm` jest ujemna (-1.0). Szerokość i wysokość powinny być wartościami większymi od 0. Najprawdopodobniej jest to wartość błędna i ten pomiar należy usunąć.\n"
   ]
  },
  {
   "cell_type": "markdown",
   "metadata": {
    "slideshow": {
     "slide_type": "slide"
    }
   },
   "source": [
    "Wartości odstające najwygodniej wykryć za pomocą wykresu skrzynkowego. "
   ]
  },
  {
   "cell_type": "code",
   "execution_count": null,
   "metadata": {},
   "outputs": [],
   "source": [
    "import matplotlib.pyplot as plt \n",
    "import seaborn as sb\n",
    "\n",
    "sb.boxplot(data=iris);"
   ]
  },
  {
   "cell_type": "markdown",
   "metadata": {},
   "source": [
    "Skrzynia określa zakres od 1 do 3 kwartyla z kreską środkową oznaczająca medianę (wartość środkowa). Punkty leżące za \"wąsami\" są podejrzane, są to wartości odstające, nietypowe dla rozkładu. \n",
    "\n",
    "Potwierdza się, że dwie pierwsze zmienne posiadają odstające wartości. \n",
    "\n",
    "Przypadki odstające tj. takie które znajdują się poza zakresem w które wpada większość danych, nie muszą jednoznacznie być błędne. Niemniej jednak należy im się dobrze przyjrzeć. I bardzo rzadko możemy jednoznacznie stwierdzić, czy taka wartość odstająca była błędem pomiaru, błędem na poziomie akwizycji czy też wprowadzania danych, czy może faktycznie jest odstępstwem od normy w samym fenomenie, który obserwujemy. "
   ]
  },
  {
   "cell_type": "markdown",
   "metadata": {
    "slideshow": {
     "slide_type": "slide"
    }
   },
   "source": [
    "Zobaczmy najpierw, które przypadki posiadają wartość ujemną, gdyż one z pewnością są błędne."
   ]
  },
  {
   "cell_type": "code",
   "execution_count": null,
   "metadata": {},
   "outputs": [],
   "source": [
    "iris[iris['sepal_width_cm'] < 0.0]"
   ]
  },
  {
   "cell_type": "markdown",
   "metadata": {},
   "source": [
    "Jest jeden taki przypadek - usuńmy go."
   ]
  },
  {
   "cell_type": "code",
   "execution_count": null,
   "metadata": {},
   "outputs": [],
   "source": [
    "iris = iris[iris['sepal_width_cm'] > 0.0]\n",
    "\n",
    "sb.boxplot(data=iris);"
   ]
  },
  {
   "cell_type": "markdown",
   "metadata": {
    "slideshow": {
     "slide_type": "slide"
    }
   },
   "source": [
    "Badając rozkład danych przyjrzyjmy się również rozkładowi danych dla każdej pary zmiennych.   \n",
    "Grupy przypadków zaznaczmy różnymi kolorami."
   ]
  },
  {
   "cell_type": "code",
   "execution_count": null,
   "metadata": {},
   "outputs": [],
   "source": [
    "import seaborn as sb\n",
    "import matplotlib.pyplot as plt\n",
    "\n",
    "sb.pairplot(iris, hue='class')\n",
    "plt.show()"
   ]
  },
  {
   "cell_type": "markdown",
   "metadata": {
    "slideshow": {
     "slide_type": "-"
    }
   },
   "source": [
    "Z tego wykresu możemy wysnuć od razu następujące wnioski:\n",
    "- wartości odstające w zmiennej `sepal_length_cm` są bardzo wyraźnie widoczne i dotyczą odmiany Iris-Versicolor,\n",
    "- domena klasy (`class`) ma 5 unikalnych wartości, podczas gdy powinna mieć ich 3."
   ]
  },
  {
   "cell_type": "markdown",
   "metadata": {
    "slideshow": {
     "slide_type": "slide"
    }
   },
   "source": [
    "Zbadajmy najpierw zmienną `class`. Jest to zmienna kategoryczna."
   ]
  },
  {
   "cell_type": "code",
   "execution_count": null,
   "metadata": {},
   "outputs": [],
   "source": [
    "# wypiszmy jakie posiaday unikalne wartośći w kolumnie class\n",
    "print(iris['class'].unique())\n",
    "\n",
    "iris['class'].value_counts()"
   ]
  },
  {
   "cell_type": "markdown",
   "metadata": {},
   "source": [
    "Możemy zauważyć, że musiał nastąpić błąd w kodowaniu danych, podczas wprowadzania danych zostały wykonane dwie literówki. Poprawmy to."
   ]
  },
  {
   "cell_type": "code",
   "execution_count": null,
   "metadata": {},
   "outputs": [],
   "source": [
    "iris.loc[iris['class'] == 'versicolor', 'class'] = 'Iris-versicolor'\n",
    "\n",
    "# podoby efekt osiągniemy z pomoca metody replace()\n",
    "iris.loc[:, 'class'] = iris['class'].replace('Iris-setossa', 'Iris-setosa')\n",
    "\n",
    "print(iris['class'].unique())\n",
    "print(iris['class'].value_counts())"
   ]
  },
  {
   "cell_type": "markdown",
   "metadata": {
    "slideshow": {
     "slide_type": "slide"
    }
   },
   "source": [
    "## Błędy w danych\n",
    "\n",
    "Przyjrzyjmy się też danym w zmiennej  `sepal_length_cm` odmiany `Iris-versicolor`, które posiadają podejrzanie małe wartości, mniejsze od 2.5cm "
   ]
  },
  {
   "cell_type": "code",
   "execution_count": null,
   "metadata": {},
   "outputs": [],
   "source": [
    "#dla ułatwienia najpier zapiszę sobie indeks do wykrajania dla tych danych\n",
    "broken_slice_idx = (iris['class'] == 'Iris-versicolor') & (iris['sepal_length_cm'] < 1.0)\n",
    "\n",
    "iris.loc[broken_slice_idx]"
   ]
  },
  {
   "cell_type": "markdown",
   "metadata": {
    "slideshow": {
     "slide_type": "-"
    }
   },
   "source": [
    "Możemy wrócić, do tabeli ze statystkami i zauważyć, że wartość `sepal_length_cm` wynosiła średnio 5.6 $\\pm$ 1.3. "
   ]
  },
  {
   "cell_type": "code",
   "execution_count": null,
   "metadata": {},
   "outputs": [],
   "source": [
    "print(\"%.1f +- %.1f\" % (iris.sepal_length_cm.mean() , iris.sepal_length_cm.std()))"
   ]
  },
  {
   "cell_type": "markdown",
   "metadata": {
    "slideshow": {
     "slide_type": "-"
    }
   },
   "source": [
    "Wygląda na to że podczas wprowadzania danych zostały pomylone jednostki miary, dane zostały wprowadzone w milimetrach zamiast w cm. Oczywiście to należałoby w jakiś sposób potwierdzić, ale na ten moment zmieńmy jednostki dla tych danych."
   ]
  },
  {
   "cell_type": "code",
   "execution_count": null,
   "metadata": {
    "slideshow": {
     "slide_type": "slide"
    }
   },
   "outputs": [],
   "source": [
    "iris.loc[broken_slice_idx, 'sepal_length_cm'] *= 100.0"
   ]
  },
  {
   "cell_type": "code",
   "execution_count": null,
   "metadata": {},
   "outputs": [],
   "source": [
    "sb.boxplot(data=iris);"
   ]
  },
  {
   "cell_type": "code",
   "execution_count": null,
   "metadata": {},
   "outputs": [],
   "source": [
    "sb.pairplot(iris, hue='class')\n",
    "plt.show()"
   ]
  },
  {
   "cell_type": "markdown",
   "metadata": {
    "slideshow": {
     "slide_type": "slide"
    }
   },
   "source": [
    "## Duplikaty\n",
    "\n"
   ]
  },
  {
   "cell_type": "markdown",
   "metadata": {},
   "source": [
    "Dane mogą zawierać powtarzające się pomiary, np. w wyniku nieuwagi pomiary jednego obiektu mogły zostać kilkukrotnie wpisane do bazy danych. W przypadku danych Irys nie mamy pewności, czy powtarzające się dane są wynikami uzyskanymi dla  różnych kwiatów. Spróbujmy jednak poszukać powtarzających się wierszy i je usunąć.\n",
    "\n",
    "Wypiszmy najpierw wszystkie wiersze, które się duplikują."
   ]
  },
  {
   "cell_type": "code",
   "execution_count": null,
   "metadata": {},
   "outputs": [],
   "source": [
    "iris_d = iris.duplicated(keep=False)\n",
    "iris_d"
   ]
  },
  {
   "cell_type": "code",
   "execution_count": null,
   "metadata": {},
   "outputs": [],
   "source": [
    "iris[iris_d]"
   ]
  },
  {
   "cell_type": "markdown",
   "metadata": {
    "slideshow": {
     "slide_type": "slide"
    }
   },
   "source": [
    "Argument `keep='first'` metody `duplicated()` pozostawia pierwsze wystąpienie powtarzającego się wiersza i pozwala zindeksować pozostałe duplikaty. Usuńmy wszystkie (oprócz pierwszego) powtarzające się pomiary."
   ]
  },
  {
   "cell_type": "code",
   "execution_count": null,
   "metadata": {},
   "outputs": [],
   "source": [
    "iris_d = iris.duplicated(keep='first')\n",
    "print('Ilość powtarzających się przypadków = %d' % (iris_d.sum()))\n",
    "\n",
    "print('Liczba przypadków przed selekcją = %d' % (iris.shape[0]))\n",
    "iris = iris.drop_duplicates()\n",
    "print('Liczba przypadków po odrzuceniu powtarzających się przypadków  = %d' % (iris.shape[0]))"
   ]
  },
  {
   "cell_type": "markdown",
   "metadata": {
    "slideshow": {
     "slide_type": "slide"
    }
   },
   "source": [
    "## Standaryzacja danych\n",
    "\n",
    "Standaryzacja  - normalizacja zmiennych zamieniająca średnią $\\mu$ na 0 (centrowanie) a odchylenie standardowe $\\sigma$ na 1\n",
    "\n",
    "$$\n",
    "z=\\frac{x-\\mu}{\\sigma}\n",
    "$$"
   ]
  },
  {
   "cell_type": "code",
   "execution_count": null,
   "metadata": {},
   "outputs": [],
   "source": [
    "iris_num = iris.select_dtypes(include=np.number)\n",
    "\n",
    "iris_std = (iris_num - iris_num.mean()) / iris_num.std()\n",
    "\n",
    "iris_std.plot(kind='box')\n",
    "# pd.options.display.float_format = '{:,.2f}'.format\n",
    "iris_std.describe()"
   ]
  },
  {
   "cell_type": "markdown",
   "metadata": {
    "slideshow": {
     "slide_type": "slide"
    }
   },
   "source": [
    "Zwykle przyjmuje się, że wartości odstające leżą dalej niż 3 odchylenia standardowe"
   ]
  },
  {
   "cell_type": "code",
   "execution_count": null,
   "metadata": {
    "slideshow": {
     "slide_type": "-"
    }
   },
   "outputs": [],
   "source": [
    "outliers = ((iris_std > 3) | (iris_std < -3)).any(axis=1)\n",
    "\n",
    "iris[outliers]"
   ]
  },
  {
   "cell_type": "markdown",
   "metadata": {
    "slideshow": {
     "slide_type": "slide"
    }
   },
   "source": [
    "## Normalizacja\n",
    "\n",
    "Normalizacja wartości zmiennych w ustalonym zakresie, zazwyczaj $[-1, 1]$\n",
    "\n",
    "$$\n",
    "z= 2 \\frac{x - x_{min}}{x_{max}-x_{min}} - 1\n",
    "$$\n",
    "\n"
   ]
  },
  {
   "cell_type": "code",
   "execution_count": null,
   "metadata": {},
   "outputs": [],
   "source": [
    "iris_norm = 2 * (iris_num - iris_num.min()) / (iris_num.max() - iris_num.min()) - 1\n",
    "\n",
    "iris_norm.plot(kind='box')\n",
    "iris_norm.describe()"
   ]
  },
  {
   "cell_type": "markdown",
   "metadata": {
    "slideshow": {
     "slide_type": "slide"
    }
   },
   "source": [
    "## Próbkowanie (sampling)"
   ]
  },
  {
   "cell_type": "code",
   "execution_count": null,
   "metadata": {},
   "outputs": [],
   "source": [
    "sample = iris.sample(n=10) # wybieramy losowo 10 próbek\n",
    "sample"
   ]
  },
  {
   "cell_type": "code",
   "execution_count": null,
   "metadata": {},
   "outputs": [],
   "source": [
    "sample = iris.sample(frac=0.05, random_state=13) # wybieramy losowo 5% próbek z całego zbioru\n",
    "sample"
   ]
  },
  {
   "cell_type": "code",
   "execution_count": null,
   "metadata": {},
   "outputs": [],
   "source": [
    "sample = iris.sample(frac=0.05, replace=True, random_state=13) # wybieramy losowo 5% próbek, ale ta sama próbka może być wybrana wiele razy\n",
    "sample"
   ]
  },
  {
   "cell_type": "markdown",
   "metadata": {
    "slideshow": {
     "slide_type": "slide"
    }
   },
   "source": [
    "## Dyskretyzacja danych\n",
    "\n",
    "Zamiana zmiennych ciągłych na dyskretne"
   ]
  },
  {
   "cell_type": "code",
   "execution_count": null,
   "metadata": {},
   "outputs": [],
   "source": [
    "iris['sepal_length_cm'].hist(bins=10);               # podział zbioru na 10 elementów"
   ]
  },
  {
   "cell_type": "code",
   "execution_count": null,
   "metadata": {},
   "outputs": [],
   "source": [
    "bins = pd.cut(iris['sepal_length_cm'], 3)   # podział zbioru na 3 elementy o równych odstępach (mniej-więcej)\n",
    "\n",
    "bins.value_counts(sort=False)"
   ]
  },
  {
   "cell_type": "code",
   "execution_count": null,
   "metadata": {},
   "outputs": [],
   "source": [
    "bins = pd.qcut(iris['sepal_length_cm'], 4, labels=['a', 'b', 'c', 'd']) # podział zbioru na 4 podzbiory o zbliżonej liczebności \n",
    "bins.value_counts(sort=False)"
   ]
  },
  {
   "cell_type": "code",
   "execution_count": null,
   "metadata": {
    "slideshow": {
     "slide_type": "slide"
    }
   },
   "outputs": [],
   "source": [
    "iris['sepal_length_size'] = pd.cut(iris['sepal_length_cm'], 3, labels=['small', 'medium', 'large'])\n",
    "iris.info()"
   ]
  },
  {
   "cell_type": "code",
   "execution_count": null,
   "metadata": {},
   "outputs": [],
   "source": [
    "iris['sepal_length_cm'].groupby(iris['sepal_length_size']).mean()"
   ]
  },
  {
   "cell_type": "markdown",
   "metadata": {
    "slideshow": {
     "slide_type": "slide"
    }
   },
   "source": [
    "## Zamiana kategorycznych danych na zmienne numeryczne\n",
    "### Kodowanie one-hot\n",
    "\n",
    "Kodowanie *one-hot* - zamiana wartości kategorycznych na wektor binarny $[0, 0, 1, 0, \\ldots, 0]$\n"
   ]
  },
  {
   "cell_type": "code",
   "execution_count": null,
   "metadata": {},
   "outputs": [],
   "source": [
    "class_one_hot = pd.get_dummies(iris['class'])\n",
    "class_one_hot"
   ]
  },
  {
   "cell_type": "markdown",
   "metadata": {
    "slideshow": {
     "slide_type": "slide"
    }
   },
   "source": [
    "### Mapowanie wartości kategorycznych na liczby"
   ]
  },
  {
   "cell_type": "code",
   "execution_count": null,
   "metadata": {},
   "outputs": [],
   "source": [
    "size_map = {\n",
    "    'small' : 1,\n",
    "    'medium' : 2,\n",
    "    'large' : 3\n",
    "}\n",
    "\n",
    "size_data = iris['sepal_length_size'].map(size_map)\n",
    "size_data"
   ]
  },
  {
   "cell_type": "markdown",
   "metadata": {
    "slideshow": {
     "slide_type": "slide"
    }
   },
   "source": [
    "## Zadanie\n",
    "\n",
    "Wczytaj dane \"Breast Cancer Wisconsin\" i przeprowadź preprocesing zgodnie z podanymi poniżej wytycznymi.\n",
    "\n",
    "Dane znajdują się w repozytorium pod adresem ``dane/breast-cancer.data``. Można je tez pobrać z adresu https://www.is.umk.pl/~grochu/wdm/files/breast-cancer.data\n",
    "\n",
    "Dane zawierają wartości opisujące cechy jąder komórkowych obecnych na obrazie uzyskanym przy badaniu piersi dla dwóch grup badanych: `benign` (złośliwy), `malignat` (łagodny).\n",
    "\n",
    "Oto lista zmiennych:\n",
    "\n",
    "```\n",
    "   #  Attribute                     Domain\n",
    "   -- -----------------------------------------\n",
    "   1. Sample code number            id number\n",
    "   2. Clump Thickness               1 - 10\n",
    "   3. Uniformity of Cell Size       1 - 10\n",
    "   4. Uniformity of Cell Shape      1 - 10\n",
    "   5. Marginal Adhesion             1 - 10\n",
    "   6. Single Epithelial Cell Size   1 - 10\n",
    "   7. Bare Nuclei                   1 - 10\n",
    "   8. Bland Chromatin               1 - 10\n",
    "   9. Normal Nucleoli               1 - 10\n",
    "  10. Mitoses                       1 - 10\n",
    "  11. Class                         (2 for benign, 4 for malignant)\n",
    "\n",
    "```\n",
    "\n",
    "Wszystkie istotne cechy posiadają wartości numeryczne z zakresu od 1 do 10, ostatnia zmienna zawiera informacje o 2 klasach."
   ]
  },
  {
   "cell_type": "markdown",
   "metadata": {
    "slideshow": {
     "slide_type": "slide"
    }
   },
   "source": [
    "1. Wczytaj zbiór danych ``brast-cancer.data`` używając Pandas. Dane są w formacie zgodnym z CSV (wartości oddzielone przecinkami). Zwróć uwagę na to, że plik nie posiada nagłówka, tzn. pierwsza linia pliku nie zawiera nazw zmiennych. Uzupełnij nazwy zmiennych (kolumn) zgodne z listą podanych wyżej atrybutów."
   ]
  },
  {
   "cell_type": "code",
   "execution_count": null,
   "metadata": {},
   "outputs": [],
   "source": [
    "\n",
    "\n"
   ]
  },
  {
   "cell_type": "markdown",
   "metadata": {
    "slideshow": {
     "slide_type": "-"
    }
   },
   "source": [
    "2. Pierwsza zmienna zawiera liczbę porządkową (``Sample_code_number``), unikatową dla każdego badanego. Jest ona nieistotna dla analizy. Usuń ją ze zbioru."
   ]
  },
  {
   "cell_type": "code",
   "execution_count": null,
   "metadata": {},
   "outputs": [],
   "source": [
    "\n",
    "\n"
   ]
  },
  {
   "cell_type": "markdown",
   "metadata": {
    "slideshow": {
     "slide_type": "-"
    }
   },
   "source": [
    "3. Wartości brakujące w pliku wejściowym kodowane są za pomocą znaku zapytania (`?`). Sprawdź dla ilu badanych występują wartości brakujące i w których zmiennych występują. "
   ]
  },
  {
   "cell_type": "code",
   "execution_count": null,
   "metadata": {},
   "outputs": [],
   "source": [
    "\n",
    "\n"
   ]
  },
  {
   "cell_type": "markdown",
   "metadata": {
    "slideshow": {
     "slide_type": "slide"
    }
   },
   "source": [
    "4. Zastąp wartości brakujące wartością modalną (zob. funkcja [mode()](https://pandas.pydata.org/pandas-docs/stable/reference/api/pandas.DataFrame.mode.html)). W przypadku występowania wielu wartości modalnych użyj dowolnej z nich. Po transformacji wszystkie zmienne powinny być zmiennymi numerycznymi."
   ]
  },
  {
   "cell_type": "code",
   "execution_count": null,
   "metadata": {},
   "outputs": [],
   "source": [
    "\n",
    "\n"
   ]
  },
  {
   "cell_type": "markdown",
   "metadata": {
    "slideshow": {
     "slide_type": "-"
    }
   },
   "source": [
    "5. Sprawdź, czy zbiór danych zawiera przypadki odstające lub nietypowe. Spodziewamy się, że wszystkie zmienne (oprócz klasy) mają wartości w zakresie od 1 do 10. Jeżeli uznasz, że pewne wartości zmiennych są niespójne ze zbiorem danych to usuń przypadki zawierające te wartości ze zbioru danych. "
   ]
  },
  {
   "cell_type": "code",
   "execution_count": null,
   "metadata": {},
   "outputs": [],
   "source": [
    "\n",
    "\n"
   ]
  },
  {
   "cell_type": "markdown",
   "metadata": {
    "slideshow": {
     "slide_type": "slide"
    }
   },
   "source": [
    "6. Usuń ze zbioru przypadki odstające, których wartości zmiennych leżą poza przedziałem $(\\bar{x}-3\\cdot\\sigma, \\bar{x}+ 3\\cdot\\sigma)$, gdzie $\\bar{x}$ to wartość średnia cechy, $\\sigma$ to odchylnie standardowe."
   ]
  },
  {
   "cell_type": "code",
   "execution_count": null,
   "metadata": {},
   "outputs": [],
   "source": [
    "\n",
    "\n"
   ]
  },
  {
   "cell_type": "markdown",
   "metadata": {
    "slideshow": {
     "slide_type": "-"
    }
   },
   "source": [
    "7. Sprawdź czy dane zawierają powtarzające się pomiary i usuń ze zbioru danych duplikaty."
   ]
  },
  {
   "cell_type": "code",
   "execution_count": null,
   "metadata": {},
   "outputs": [],
   "source": [
    "\n",
    "\n",
    "\n"
   ]
  }
 ],
 "metadata": {
  "celltoolbar": "Slideshow",
  "kernelspec": {
   "display_name": "Python 3 (ipykernel)",
   "language": "python",
   "name": "python3"
  },
  "language_info": {
   "codemirror_mode": {
    "name": "ipython",
    "version": 3
   },
   "file_extension": ".py",
   "mimetype": "text/x-python",
   "name": "python",
   "nbconvert_exporter": "python",
   "pygments_lexer": "ipython3",
   "version": "3.9.7"
  },
  "varInspector": {
   "cols": {
    "lenName": 16,
    "lenType": 16,
    "lenVar": 40
   },
   "kernels_config": {
    "python": {
     "delete_cmd_postfix": "",
     "delete_cmd_prefix": "del ",
     "library": "var_list.py",
     "varRefreshCmd": "print(var_dic_list())"
    },
    "r": {
     "delete_cmd_postfix": ") ",
     "delete_cmd_prefix": "rm(",
     "library": "var_list.r",
     "varRefreshCmd": "cat(var_dic_list()) "
    }
   },
   "types_to_exclude": [
    "module",
    "function",
    "builtin_function_or_method",
    "instance",
    "_Feature"
   ],
   "window_display": false
  }
 },
 "nbformat": 4,
 "nbformat_minor": 4
}
