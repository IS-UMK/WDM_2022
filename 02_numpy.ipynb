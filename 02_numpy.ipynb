{
 "cells": [
  {
   "cell_type": "markdown",
   "metadata": {
    "slideshow": {
     "slide_type": "slide"
    }
   },
   "source": [
    "# Wprowadzenie do Python 2: numpy, matplotlib, ...\n",
    "\n",
    "* dokonczenie wprowadzenia do Python: listy, słowniki, funkcje, operacje IO, moduły (math)\n",
    "* numpy - operacje macierzowe\n",
    "* matplotlib - wykresy \n"
   ]
  },
  {
   "cell_type": "markdown",
   "metadata": {
    "slideshow": {
     "slide_type": "slide"
    }
   },
   "source": [
    "## Listy i słowniki"
   ]
  },
  {
   "cell_type": "code",
   "execution_count": null,
   "metadata": {
    "slideshow": {
     "slide_type": "-"
    }
   },
   "outputs": [],
   "source": [
    "# lista (tablica)\n",
    "\n",
    "a = [1, 2, 3, 5]\n",
    "\n",
    "print('lista a=', a)\n",
    "print('a[0]=', a[0])\n",
    "\n",
    "for i in a:\n",
    "    print(i)\n",
    "    \n",
    "for i, x in enumerate(a):\n",
    "    print(i, x)"
   ]
  },
  {
   "cell_type": "code",
   "execution_count": null,
   "metadata": {
    "slideshow": {
     "slide_type": "slide"
    }
   },
   "outputs": [],
   "source": [
    "# lista \n",
    "a = [ 5, 3, 2, -4, 12]\n",
    "\n",
    "a.reverse()    # odwracanie\n",
    "print(a)\n",
    "\n",
    "a.sort()       # sortowanie\n",
    "print(a)\n",
    "\n",
    "a.append(3)    # dodawanie elementu na końcu\n",
    "print(a)\n",
    "\n",
    "del a[0]      # usuwanie elementu\n",
    "print(a)\n"
   ]
  },
  {
   "cell_type": "code",
   "execution_count": null,
   "metadata": {
    "slideshow": {
     "slide_type": "slide"
    }
   },
   "outputs": [],
   "source": [
    "# pusta lista\n",
    "a = []\n",
    "\n",
    "print('Zawartosc listy', a)\n",
    "print('Dlugosc listy = ', len(a))\n",
    "\n",
    "for i in range(5):\n",
    "    a.append(i**2)\n",
    "\n",
    "print('Zawartosc listy', a)\n",
    "print('Dlugosc listy = ', len(a))\n",
    "    "
   ]
  },
  {
   "cell_type": "code",
   "execution_count": null,
   "metadata": {
    "slideshow": {
     "slide_type": "slide"
    }
   },
   "outputs": [],
   "source": [
    "# lista zawierająca listy \n",
    "a= [[ 1, 2 ,3 ], [4, 5, 6, 7 ]]\n",
    "print(len(a))\n",
    "print(a[0])      # pierwszy wiersz\n",
    "print(a[1][2])    "
   ]
  },
  {
   "cell_type": "code",
   "execution_count": null,
   "metadata": {
    "slideshow": {
     "slide_type": "slide"
    }
   },
   "outputs": [],
   "source": [
    "# indeksowanie list\n",
    "a = [ 5, 3, 1,6 ,3]\n",
    "print(a[0])             # pierwszy element\n",
    "print(a[-1])            # ostatni element\n",
    "print(a[1:3])           # element 1,2\n",
    "print(a[2:])            # element od 2 do końca"
   ]
  },
  {
   "cell_type": "markdown",
   "metadata": {
    "slideshow": {
     "slide_type": "slide"
    }
   },
   "source": [
    "### Słownik (klucz, wartość)"
   ]
  },
  {
   "cell_type": "code",
   "execution_count": 1,
   "metadata": {
    "ExecuteTime": {
     "end_time": "2022-03-07T16:24:17.611255Z",
     "start_time": "2022-03-07T16:24:17.603490Z"
    },
    "slideshow": {
     "slide_type": "-"
    }
   },
   "outputs": [
    {
     "name": "stdout",
     "output_type": "stream",
     "text": [
      "ma kota\n",
      "ala ma kota\n",
      "ewa ma psa\n",
      "janek lubi Pythona\n",
      "dict_keys(['ala', 'ewa', 'janek'])\n",
      "dict_values(['ma kota', 'ma psa', 'lubi Pythona'])\n",
      "3\n",
      "True\n",
      "False\n"
     ]
    }
   ],
   "source": [
    "# słownik { 'klucz1' : wartość1, 'klucz2': wartość2, ...}\n",
    "s = { 'ala' : 'ma kota', 'ewa' : 'ma psa'}\n",
    "\n",
    "print(s['ala'])    \n",
    "\n",
    "s['janek']='lubi Pythona'    # nowy element słownika\n",
    "\n",
    "for k in s:\n",
    "    print(k, s[k])\n",
    "    \n",
    "print(s.keys())      # lista kluczy\n",
    "print(s.values())    # lista wartości\n",
    "print(len(s))        # ilośc elementów\n",
    "\n",
    "print('ala' in s)    # czy 'ala' jest w słowniku?\n",
    "print('zosia' in s)  # czy 'zosia' jest w słowniku?"
   ]
  },
  {
   "cell_type": "markdown",
   "metadata": {
    "slideshow": {
     "slide_type": "slide"
    }
   },
   "source": [
    "## Funkcje"
   ]
  },
  {
   "cell_type": "code",
   "execution_count": null,
   "metadata": {},
   "outputs": [],
   "source": [
    "# definicja funkcji\n",
    "def suma(a, b, c):\n",
    "    \n",
    "    return a + b + c\n",
    "    "
   ]
  },
  {
   "cell_type": "code",
   "execution_count": null,
   "metadata": {},
   "outputs": [],
   "source": [
    "x = suma(1, 3, 4)\n",
    "print(x)"
   ]
  },
  {
   "cell_type": "code",
   "execution_count": null,
   "metadata": {
    "slideshow": {
     "slide_type": "slide"
    }
   },
   "outputs": [],
   "source": [
    "# funkcja może zwracać krotkę (więcej niż jedną wartość)\n",
    "\n",
    "def funkcja2(a, b, c):\n",
    "    '''Ta funkcja zwraca aż 3 wartości'''\n",
    "    \n",
    "    return a+1, b-1, c\n",
    "    "
   ]
  },
  {
   "cell_type": "code",
   "execution_count": null,
   "metadata": {},
   "outputs": [],
   "source": [
    "x, y, z = funkcja2(1, 2, 3)\n",
    "\n",
    "print(x, y, z)"
   ]
  },
  {
   "cell_type": "markdown",
   "metadata": {
    "slideshow": {
     "slide_type": "slide"
    }
   },
   "source": [
    "## Pliki\n",
    "\n",
    "Operacje na plikach: https://www.w3schools.com/python/python_file_handling.asp\n",
    "\n",
    "W ćwiczeniach wykorzystano plik [liczby.txt](http://www.is.umk.pl/~grochu/mn/files/liczby.txt), który zawiera kilka liczb odzielonych przecinkiem\n",
    "```\n",
    "1,2,3,4,5,6\n",
    "11,22,33,44,55,66\n",
    "42,32,32,1\n",
    "```\n",
    "Plik znajduje się w podkatalogu ``dane`` w repozytorium GitHub lub mozna go pobrać tutaj [http://www.is.umk.pl/~grochu/mn/files/liczby.txt](http://www.is.umk.pl/~grochu/mn/files/liczby.txt)\n"
   ]
  },
  {
   "cell_type": "code",
   "execution_count": null,
   "metadata": {
    "slideshow": {
     "slide_type": "-"
    }
   },
   "outputs": [],
   "source": [
    "# Pobranie pliku (uwaga: działa tylko, gdy w systemie zainstalowany jest wget)\n",
    "!wget http://www.is.umk.pl/~grochu/mn/files/liczby.txt"
   ]
  },
  {
   "cell_type": "code",
   "execution_count": null,
   "metadata": {
    "slideshow": {
     "slide_type": "slide"
    }
   },
   "outputs": [],
   "source": [
    "# Odczyt całego pliku w postaci napisu\n",
    "plik = open(\"dane/liczby.txt\", 'r')\n",
    "dane = plik.read()\n",
    "plik.close()\n",
    "\n",
    "print(dane)"
   ]
  },
  {
   "cell_type": "code",
   "execution_count": null,
   "metadata": {},
   "outputs": [],
   "source": [
    "# Odczyt pliku linia po linii\n",
    "\n",
    "plik = open('dane/liczby.txt', 'r')\n",
    "i = 1\n",
    "\n",
    "for linia in plik:\n",
    "    print(\"linia %d: %s\" % (i, linia))\n",
    "    i = i + 1\n",
    "plik.close()    "
   ]
  },
  {
   "cell_type": "code",
   "execution_count": null,
   "metadata": {
    "slideshow": {
     "slide_type": "slide"
    }
   },
   "outputs": [],
   "source": [
    "# Odczyt pliku linia po linii\n",
    "\n",
    "plik = open('dane/liczby.txt', 'r')\n",
    "\n",
    "liczby = []\n",
    "for linia in plik:\n",
    "    elementy = linia.split(',')     # split() dzieli napis wzgledem separatora\n",
    "    for e in elementy:\n",
    "        liczby.append(float(e))    # zamiana str na float\n",
    "plik.close()    \n",
    "\n",
    "print('Suma = %f' % sum(liczby))"
   ]
  },
  {
   "cell_type": "code",
   "execution_count": null,
   "metadata": {
    "slideshow": {
     "slide_type": "slide"
    }
   },
   "outputs": [],
   "source": [
    "# Zapis do pliku\n",
    "\n",
    "liczby = [ 3, -5 , 2 , 3]\n",
    "\n",
    "f = open(\"output.txt\", \"w\")\n",
    "f.write(\"Oto liczby:\\n\")\n",
    "for x in liczby:\n",
    "    f.write('%.3f\\n' % x)\n",
    "f.close()\n",
    "\n",
    "# !ls -l"
   ]
  },
  {
   "cell_type": "markdown",
   "metadata": {
    "slideshow": {
     "slide_type": "slide"
    }
   },
   "source": [
    "## Moduły i pakiety\n",
    "\n",
    "Lista wbudowanych funkcji: https://docs.python.org/3.8/library/functions.html\n",
    "\n",
    "Lista wbudowanych pakietów: https://docs.python.org/3.8/library/\n",
    "\n",
    "Przykład: \n",
    "* **math** https://docs.python.org/3.8/library/math.html\n",
    "* **random** https://docs.python.org/3.8/library/random.html\n",
    "* **time** https://docs.python.org/3.8/library/time.html"
   ]
  },
  {
   "cell_type": "code",
   "execution_count": null,
   "metadata": {
    "slideshow": {
     "slide_type": "slide"
    }
   },
   "outputs": [],
   "source": [
    "import math\n",
    "\n",
    "x = 4\n",
    "print(math.sqrt(x))      # sqrt(4) = 2\n",
    "print(math.pow(x,2))     # 4**2 = 16\n",
    "print(math.exp(x))       # exp(4) = 54.6\n",
    "print(math.log(x))       # ln(x)\n",
    "print(math.log(x,10))    # log_10(x)\n",
    "print(math.fabs(-4))     # wartość bezwzględna\n",
    "print(math.factorial(x)) # 4! \n",
    "\n",
    "z = 0.2\n",
    "print(math.ceil(z))      # najmniejszy float z wartością dziesiętną 0 nie mniejszy niż z (1.0)\n",
    "print(math.floor(z))     # największy float z wartością dziesiętną 0 nie większy niż z (0.0)\n",
    "print(math.trunc(z))     # najbliższy integer nie większy niż z (0)\n",
    "\n",
    "z = math.pi              # 3.141592653589793 \n",
    "print(math.sin(z))       # sinus kąta z (miara łukowa)\n",
    "print(math.tanh(z))      # tangens hiperboliczny kąta z (miara łukowa)\n",
    "\n",
    "x = math.nan             # wartość specjalna NaN (not a number)\n",
    "print(math.isnan(x))\n",
    "\n",
    "x = math.inf             # nieskończoność\n",
    "print(math.isinf(x))"
   ]
  },
  {
   "cell_type": "code",
   "execution_count": null,
   "metadata": {
    "slideshow": {
     "slide_type": "slide"
    }
   },
   "outputs": [],
   "source": [
    "# importowanie z nadaniem aliasu (własnej nazwy)\n",
    "\n",
    "import random as r\n",
    "\n",
    "for i in range(10):\n",
    "    print(r.random())"
   ]
  },
  {
   "cell_type": "code",
   "execution_count": null,
   "metadata": {
    "slideshow": {
     "slide_type": "slide"
    }
   },
   "outputs": [],
   "source": [
    "# importowanie pojedynczej funkcji z pakietu\n",
    "\n",
    "from time import sleep\n",
    "\n",
    "for i in range(10, 1, -1):\n",
    "    print(i)\n",
    "    sleep(1)\n",
    "\n",
    "print('Start!')"
   ]
  },
  {
   "cell_type": "markdown",
   "metadata": {
    "slideshow": {
     "slide_type": "slide"
    }
   },
   "source": [
    "## NumPy - bibloteka do obliczeń numerycznych\n",
    "\n",
    "NumPy tutorial: <https://numpy.org/devdocs/user/quickstart.html>"
   ]
  },
  {
   "cell_type": "code",
   "execution_count": null,
   "metadata": {},
   "outputs": [],
   "source": [
    "import numpy as np"
   ]
  },
  {
   "cell_type": "code",
   "execution_count": null,
   "metadata": {},
   "outputs": [],
   "source": [
    "a = np.array([1, 2, 3])     # tablica numpy (ndarray), 1-wymiarowa (wektor)\n",
    "print(a)\n",
    "print(type(a))"
   ]
  },
  {
   "cell_type": "code",
   "execution_count": null,
   "metadata": {
    "slideshow": {
     "slide_type": "-"
    }
   },
   "outputs": [],
   "source": [
    "print(a.ndim)       # liczba wymiarów\n",
    "print(a.shape)      # wymiary (kształt) macierzy\n",
    "print(a.dtype)      # typ danych\n",
    "print(a.size)       # liczba elementów"
   ]
  },
  {
   "cell_type": "code",
   "execution_count": null,
   "metadata": {
    "slideshow": {
     "slide_type": "slide"
    }
   },
   "outputs": [],
   "source": [
    "b = np.array([[1.1, 2, 3], [3, 5, 6]])   # tablica 2-wymiarowa\n",
    "print(b)"
   ]
  },
  {
   "cell_type": "code",
   "execution_count": null,
   "metadata": {},
   "outputs": [],
   "source": [
    "print(b.ndim)       # liczba wymiarów\n",
    "print(b.shape)      # wymiary (kształt) macierzy\n",
    "print(b.dtype)      # typ danych\n",
    "print(b.size)       # liczba elementów"
   ]
  },
  {
   "cell_type": "markdown",
   "metadata": {
    "slideshow": {
     "slide_type": "slide"
    }
   },
   "source": [
    "### Funkcje do generowania tablic"
   ]
  },
  {
   "cell_type": "code",
   "execution_count": null,
   "metadata": {},
   "outputs": [],
   "source": [
    "print(np.random.rand(4))           # liczby losowe z rozkładu jednostajnego [0,1]\n",
    "print(np.random.randn(5))          # rozkład normalny\n",
    "print(np.arange(-10,10,2))         # wartości od -10 do 10 z krokiem 2\n",
    "print(np.arange(12).reshape(3,4))  # reshape to a matrix\n",
    "print(np.linspace(0,1,10))         # 10 kolejnych wartości z odcinka [0,1]\n",
    "print(np.zeros((3,5)))             # macierz zerowa\n",
    "print(np.eye(5))                   # macierz jednostkowa (diagonalna)\n",
    "print(np.ones((5,1)))              # macierz jedynek"
   ]
  },
  {
   "cell_type": "markdown",
   "metadata": {
    "slideshow": {
     "slide_type": "slide"
    }
   },
   "source": [
    "### Zmiana kształtu mcierzy"
   ]
  },
  {
   "cell_type": "code",
   "execution_count": null,
   "metadata": {},
   "outputs": [],
   "source": [
    "x = np.arange(12)\n",
    "print(x.shape)\n",
    "print(x)\n",
    "\n",
    "y = x.reshape([3,4])\n",
    "print(y.shape)\n",
    "print(y)"
   ]
  },
  {
   "cell_type": "markdown",
   "metadata": {
    "slideshow": {
     "slide_type": "slide"
    }
   },
   "source": [
    "### Operacje na macierzach"
   ]
  },
  {
   "cell_type": "code",
   "execution_count": null,
   "metadata": {},
   "outputs": [],
   "source": [
    "x = np.array([1,2,3,4,5])\n",
    "\n",
    "print(x + 1)      # addition \n",
    "print(x - 1)      # subtraction\n",
    "print(x * 2)      # multiplication\n",
    "print(x // 2)     # integer division\n",
    "print(x ** 2)     # square\n",
    "print(x % 2)      # modulo  \n",
    "print(1 / x)      # division"
   ]
  },
  {
   "cell_type": "code",
   "execution_count": null,
   "metadata": {
    "slideshow": {
     "slide_type": "slide"
    }
   },
   "outputs": [],
   "source": [
    "x = np.array([0,2,4,6,8,10]).reshape([2,3])\n",
    "y = np.array([1,2,3,4,5,6]).reshape([2,3])\n",
    "\n",
    "print(x + y)\n",
    "print(x - y)\n",
    "print(x * y)    # mnożenie element po elemencie\n",
    "print(x / y)    # \n",
    "print(x // y)\n",
    "print(x ** y)"
   ]
  },
  {
   "cell_type": "markdown",
   "metadata": {
    "slideshow": {
     "slide_type": "slide"
    }
   },
   "source": [
    "### Transpozycja, mnożenie macierzowe"
   ]
  },
  {
   "cell_type": "code",
   "execution_count": null,
   "metadata": {
    "slideshow": {
     "slide_type": "-"
    }
   },
   "outputs": [],
   "source": [
    "# transpozycja \n",
    "a = x.T\n",
    "print(a)\n",
    "\n",
    "# mnożenie macierzy\n",
    "b = np.dot(x.T, y)\n",
    "print(b)"
   ]
  },
  {
   "cell_type": "markdown",
   "metadata": {
    "slideshow": {
     "slide_type": "slide"
    }
   },
   "source": [
    "### Indeksowanie elementów macierzy"
   ]
  },
  {
   "cell_type": "code",
   "execution_count": null,
   "metadata": {},
   "outputs": [],
   "source": [
    "x = np.array([11 ,22 ,33, 44, 55, 66])\n",
    "print(x)\n",
    "\n",
    "y = x[3:5]     # y jest przekrojem (slice) macierzy x elementów od 3 do 4, macierz y wskazuje wybrane dane z x\n",
    "print(y)"
   ]
  },
  {
   "cell_type": "code",
   "execution_count": null,
   "metadata": {},
   "outputs": [],
   "source": [
    "y[:] = 1000    # zmiana elementów y zmieni też x (obie macierze to widok na te same dane w pamięci)\n",
    "print(y)\n",
    "print(x)"
   ]
  },
  {
   "cell_type": "code",
   "execution_count": null,
   "metadata": {},
   "outputs": [],
   "source": [
    "z = x[3:5].copy()   # utworzenie kopii macierzy, elementy z leżą w innej przestrzeni pamięci niż x i y\n",
    "print(z)"
   ]
  },
  {
   "cell_type": "code",
   "execution_count": null,
   "metadata": {},
   "outputs": [],
   "source": [
    "z[:] = 500          # zmiana z nie zmieni x\n",
    "print(z)\n",
    "print(x)"
   ]
  },
  {
   "cell_type": "code",
   "execution_count": null,
   "metadata": {
    "slideshow": {
     "slide_type": "slide"
    }
   },
   "outputs": [],
   "source": [
    "x = np.arange(12).reshape((3,4))\n",
    "print(x)\n",
    "print(x[2,:])       # trzeci wiersz\n",
    "print(x[:, 2])       # trzecia kolumna \n",
    "print(x[:2, 2:])     # dwa pierwsze wiersze i dwie ostatnie kolumny"
   ]
  },
  {
   "cell_type": "markdown",
   "metadata": {
    "slideshow": {
     "slide_type": "slide"
    }
   },
   "source": [
    "### Indeksowanie warunkowe "
   ]
  },
  {
   "cell_type": "code",
   "execution_count": null,
   "metadata": {},
   "outputs": [],
   "source": [
    "x = np.arange(12).reshape(3,4)\n",
    "print(x)\n",
    "\n",
    "x[x > 5 ] = 0   # wyzerowanie el. większych od 5\n",
    "print(x)"
   ]
  },
  {
   "cell_type": "code",
   "execution_count": null,
   "metadata": {},
   "outputs": [],
   "source": [
    "ind = x == 0\n",
    "print(ind)          # ndarray typu bool\n",
    "print(x[ind])       \n",
    "print(x[~ind])"
   ]
  },
  {
   "cell_type": "markdown",
   "metadata": {
    "slideshow": {
     "slide_type": "slide"
    }
   },
   "source": [
    "### Przydatne funkcje"
   ]
  },
  {
   "cell_type": "code",
   "execution_count": null,
   "metadata": {},
   "outputs": [],
   "source": [
    "y = np.random.rand(10) - 0.5\n",
    "print(y)\n",
    "\n",
    "print(np.abs(y))          # wartośc bezwzględna\n",
    "print(np.exp(y))          # exponent\n",
    "print(np.sort(y))         # sortowanie\n",
    "print(\"Min =\", np.min(y))             # min \n",
    "print(\"Max =\", np.max(y))             # max \n",
    "print(\"Average =\", np.mean(y))        # mean/average\n",
    "print(\"Std deviation =\", np.std(y))   # standard deviation\n",
    "print(\"Sum =\", np.sum(y))             # sum \n",
    "\n",
    "x = np.reshape(y, [5,2])\n",
    "print(x)\n",
    "print('Min axis=0: ', np.min(x, axis=0))     # min. wzgl. wymiaru 0"
   ]
  },
  {
   "cell_type": "markdown",
   "metadata": {
    "slideshow": {
     "slide_type": "slide"
    }
   },
   "source": [
    "### Optymalizacja czasu wykonywania operacji macierzowych"
   ]
  },
  {
   "cell_type": "code",
   "execution_count": null,
   "metadata": {},
   "outputs": [],
   "source": [
    "n = 1000\n",
    "x = np.random.rand(n)\n",
    "y = np.random.rand(n)\n",
    "z = np.zeros(x.shape)    # pre-alokacja macierzy z"
   ]
  },
  {
   "cell_type": "code",
   "execution_count": null,
   "metadata": {},
   "outputs": [],
   "source": [
    "%%timeit \n",
    "z = x * y"
   ]
  },
  {
   "cell_type": "code",
   "execution_count": null,
   "metadata": {},
   "outputs": [],
   "source": [
    "%%timeit \n",
    "z = np.multiply(x, y)"
   ]
  },
  {
   "cell_type": "code",
   "execution_count": null,
   "metadata": {},
   "outputs": [],
   "source": [
    "%%timeit\n",
    "for i in range(n):\n",
    "    z[i] = x[i] * y[i]"
   ]
  },
  {
   "cell_type": "markdown",
   "metadata": {
    "slideshow": {
     "slide_type": "slide"
    }
   },
   "source": [
    "## MatPlotLib - wykresy\n",
    "\n",
    "Tutorial: <https://matplotlib.org/tutorials/index.html>"
   ]
  },
  {
   "cell_type": "code",
   "execution_count": null,
   "metadata": {},
   "outputs": [],
   "source": [
    "import matplotlib.pyplot as plt"
   ]
  },
  {
   "cell_type": "markdown",
   "metadata": {
    "slideshow": {
     "slide_type": "slide"
    }
   },
   "source": [
    "### Wykres liniowy"
   ]
  },
  {
   "cell_type": "markdown",
   "metadata": {},
   "source": [
    "Narysujmy przebieg funkcji sigmoidalnej $f(x) = \\frac{1}{1+e^{-\\alpha x}}$ na odcinku [-5, 5]\n",
    "\n"
   ]
  },
  {
   "cell_type": "code",
   "execution_count": null,
   "metadata": {},
   "outputs": [],
   "source": [
    "x = np.linspace(-5, 5, 100)\n",
    "y = 1.0 / (1.0 + np.exp(-x))\n",
    "\n",
    "plt.plot(x, y)"
   ]
  },
  {
   "cell_type": "markdown",
   "metadata": {},
   "source": [
    "Funkcji sigmoidalna ze współczynnikiem nachylenia $\\alpha=0.5, 1, 2, 100$"
   ]
  },
  {
   "cell_type": "code",
   "execution_count": null,
   "metadata": {},
   "outputs": [],
   "source": [
    "for a in [0.5, 1.0, 2.0, 100]:\n",
    "    y = 1.0 / (1.0 + np.exp(-x * a))\n",
    "    plt.plot(x, y, label='a=' + str(a))\n",
    "\n",
    "plt.title('Funkcja sigmoidalna')\n",
    "plt.xlabel('x')\n",
    "plt.ylabel('f(x)')\n",
    "plt.legend()\n"
   ]
  },
  {
   "cell_type": "markdown",
   "metadata": {
    "slideshow": {
     "slide_type": "slide"
    }
   },
   "source": [
    "## Wykres punktowy"
   ]
  },
  {
   "cell_type": "code",
   "execution_count": null,
   "metadata": {},
   "outputs": [],
   "source": [
    "x1 = np.random.randn(100, 2)\n",
    "x2 = np.random.randn(100, 2) * 3 + 2\n",
    "\n",
    "plt.plot(x1[:,0], x1[:,1], 'ro')   # red circle (o)\n",
    "plt.plot(x2[:,0], x2[:,1], 'bx')   # blue cross (x)"
   ]
  },
  {
   "cell_type": "markdown",
   "metadata": {
    "slideshow": {
     "slide_type": "slide"
    }
   },
   "source": [
    "### Wykres słupkowy i kołowy"
   ]
  },
  {
   "cell_type": "code",
   "execution_count": null,
   "metadata": {},
   "outputs": [],
   "source": [
    "x = ['a', 'b', 'c']\n",
    "y = [3, 5, 12]\n",
    "\n",
    "plt.bar(x, y)"
   ]
  },
  {
   "cell_type": "code",
   "execution_count": null,
   "metadata": {},
   "outputs": [],
   "source": [
    "plt.pie(y, labels=x)"
   ]
  },
  {
   "cell_type": "markdown",
   "metadata": {
    "slideshow": {
     "slide_type": "slide"
    }
   },
   "source": [
    "### Histogram"
   ]
  },
  {
   "cell_type": "code",
   "execution_count": null,
   "metadata": {},
   "outputs": [],
   "source": [
    "x = np.random.randn(10000, 1) * 3 + 2\n",
    "plt.hist(x)"
   ]
  },
  {
   "cell_type": "markdown",
   "metadata": {
    "slideshow": {
     "slide_type": "slide"
    }
   },
   "source": [
    "## Zadanie: Odmiany win\n",
    "\n",
    "1. Wczytaj do tablicy ''numpy'' dane liczbowe umieszczone w pliku  ''wine.data'' (http://www.fizyka.umk.pl/~grochu/wdm/files/wine.data)  \n",
    "Plik zawiera pomiary własności chemicznych 3 odmian Włoskich win.  \n",
    "Format danych:  \n",
    "```\n",
    "  1,14.23,1.71,2.43,15.6,127,2.8,3.06,.28,2.29,5.64,1.04,3.92,1065\n",
    "  2,13.2,1.78,2.14,11.2,100,2.65,2.76,.26,1.28,4.38,1.05,3.4,1050\n",
    "  3,13.16,2.36,2.67,18.6,101,2.8,3.24,.3,2.81,5.68,1.03,3.17,1185\n",
    "   ...\n",
    "```\n",
    "Każda linia zawiera 14 liczb oddzielonych przecinkami określających wartości pomiaru dla pojedynczego wina.  \n",
    "Pierwsza zmienna to odmiana wina (wartość 1, 2 lub 3) pozostałe to zmienne ciągłe (wyniki pomiarów):\n",
    "```\n",
    "  1 Odmiana (1,2,3),  \n",
    "  2 Alcohol,  \n",
    "  3 Malic acid,  \n",
    "  4 Ash,  \n",
    "  5 Alcalinity of ash,  \n",
    "  6 Magnesium,  \n",
    "  7 Total phenols, \n",
    "  8 Flavanoids,  \n",
    "  9 Nonflavanoid phenols,  \n",
    "  10 Proanthocyanins,  \n",
    "  11 Color intensity,  \n",
    "  12 Hue,  \n",
    "  13 OD280/OD315 of diluted wines, \n",
    "  14 Proline \n",
    "```\n",
    "\n",
    "2. Wyznacz wartość minimalną, maksymalną, średnią, medianę i odchylenie standardowe dla każdej z 14 zmiennych.  \n",
    "\n",
    "3. Wyznacz wartości średnie wszystkich zmiennych ciągłych w grupie win odmiany 1.  \n",
    "\n",
    "4. Wyrysuj histogram wybranej zmiennej o charakterze ciągłym dla całego zbioru danych\n",
    "\n",
    "5. Wyrysuj histogramy dowolnej zmiennej ciągłej w podziale na 3 grupy względem odmian win. Wykresy mogą być zrobione osobno dla kazdej grupy lub w postaci pojedynczego histogramu, gdzie każda odmiana wina oznaczona jest innym kolorem.\n",
    "\n",
    "6. Wyznacz liczebność win każdej z 3 odmian. Wynik przedstaw graficznie za pomocą odpowiedniego wykresu (słupkowego lub kołowego).\n",
    "\n",
    "7. Sporządź wykres rozrzutu (zob. [scatter plot](https://matplotlib.org/3.2.1/api/_as_gen/matplotlib.pyplot.scatter.html)) dwóch wybranych zmiennych ciągłych.  \n",
    "Spróbuj wskazać taką parę zmiennych ciągłych, które posiadają na wykresie widoczną zależność (są skorelowane). \n",
    "\n",
    "8. Sporządź wykres rozrzutu dwóch wybranych zmiennych ciągłych, na którym przypadki z każdej odmiany wina są oznaczone innym kolorem.  \n",
    "Spróbuj wskazać taką parę zmiennych ciągłych, które prezentują na wykresie rozrzutu najlepszą separację pomiędzy grupami (odmianami win). "
   ]
  },
  {
   "cell_type": "code",
   "execution_count": null,
   "metadata": {},
   "outputs": [],
   "source": []
  }
 ],
 "metadata": {
  "celltoolbar": "Slideshow",
  "kernelspec": {
   "display_name": "Python 3",
   "language": "python",
   "name": "python3"
  },
  "language_info": {
   "codemirror_mode": {
    "name": "ipython",
    "version": 3
   },
   "file_extension": ".py",
   "mimetype": "text/x-python",
   "name": "python",
   "nbconvert_exporter": "python",
   "pygments_lexer": "ipython3",
   "version": "3.7.4"
  },
  "toc": {
   "base_numbering": 1,
   "nav_menu": {},
   "number_sections": true,
   "sideBar": true,
   "skip_h1_title": false,
   "title_cell": "Table of Contents",
   "title_sidebar": "Contents",
   "toc_cell": false,
   "toc_position": {},
   "toc_section_display": true,
   "toc_window_display": false
  },
  "varInspector": {
   "cols": {
    "lenName": 16,
    "lenType": 16,
    "lenVar": 40
   },
   "kernels_config": {
    "python": {
     "delete_cmd_postfix": "",
     "delete_cmd_prefix": "del ",
     "library": "var_list.py",
     "varRefreshCmd": "print(var_dic_list())"
    },
    "r": {
     "delete_cmd_postfix": ") ",
     "delete_cmd_prefix": "rm(",
     "library": "var_list.r",
     "varRefreshCmd": "cat(var_dic_list()) "
    }
   },
   "types_to_exclude": [
    "module",
    "function",
    "builtin_function_or_method",
    "instance",
    "_Feature"
   ],
   "window_display": false
  }
 },
 "nbformat": 4,
 "nbformat_minor": 4
}
