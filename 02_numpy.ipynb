{
 "cells": [
  {
   "cell_type": "markdown",
   "metadata": {
    "slideshow": {
     "slide_type": "slide"
    }
   },
   "source": [
    "# Wprowadzenie do Python 2: numpy, matplotlib, ...\n",
    "\n",
    "* moduły, import\n",
    "* math - moduł funkcji matematycznych\n",
    "* numpy - operacje macierzowe (_a la_ Matlab)\n",
    "* matplotlib - wykresy (_a la_ Matlab)\n"
   ]
  },
  {
   "cell_type": "markdown",
   "metadata": {
    "slideshow": {
     "slide_type": "slide"
    }
   },
   "source": [
    "## Moduły i pakiety\n",
    "\n",
    "Lista wbudowanych funkcji: https://docs.python.org/3.8/library/functions.html\n",
    "\n",
    "Lista wbudowanych pakietów: https://docs.python.org/3.8/library/\n",
    "\n",
    "Przykład: \n",
    "* **math** https://docs.python.org/3.8/library/math.html\n",
    "* **random** https://docs.python.org/3.8/library/random.html\n",
    "* **time** https://docs.python.org/3.8/library/time.html"
   ]
  },
  {
   "cell_type": "markdown",
   "metadata": {
    "slideshow": {
     "slide_type": "slide"
    }
   },
   "source": [
    "## Importowanie modułów\n"
   ]
  },
  {
   "cell_type": "code",
   "execution_count": null,
   "metadata": {},
   "outputs": [],
   "source": [
    "import math\n",
    "\n",
    "x = math.sqrt(2)\n",
    "print(x)"
   ]
  },
  {
   "cell_type": "markdown",
   "metadata": {
    "slideshow": {
     "slide_type": "slide"
    }
   },
   "source": [
    "Importowanie z nadaniem aliasu (własnej nazwy)"
   ]
  },
  {
   "cell_type": "code",
   "execution_count": null,
   "metadata": {
    "slideshow": {
     "slide_type": "-"
    }
   },
   "outputs": [],
   "source": [
    "import random as r\n",
    "\n",
    "for i in range(10):\n",
    "    print(r.rand())"
   ]
  },
  {
   "cell_type": "markdown",
   "metadata": {
    "slideshow": {
     "slide_type": "slide"
    }
   },
   "source": [
    "Importowanie pojedynczej funkcji z pakietu"
   ]
  },
  {
   "cell_type": "code",
   "execution_count": null,
   "metadata": {
    "slideshow": {
     "slide_type": "-"
    }
   },
   "outputs": [],
   "source": [
    "from time import sleep\n",
    "\n",
    "for i in range(10, 1, -1):\n",
    "    print(i)\n",
    "    sleep(1)\n",
    "\n",
    "print('Start!')"
   ]
  },
  {
   "cell_type": "markdown",
   "metadata": {
    "slideshow": {
     "slide_type": "slide"
    }
   },
   "source": [
    "## math - funkcje matematyczne\n",
    "\n",
    "https://docs.python.org/3/library/math.html"
   ]
  },
  {
   "cell_type": "code",
   "execution_count": null,
   "metadata": {
    "slideshow": {
     "slide_type": "-"
    }
   },
   "outputs": [],
   "source": [
    "import math\n",
    "\n",
    "x = 4\n",
    "print(math.sqrt(x))      # sqrt(4) = 2\n",
    "print(math.pow(x,2))     # 4**2 = 16\n",
    "print(math.exp(x))       # exp(4) = 54.6\n",
    "print(math.log(x))       # ln(x)\n",
    "print(math.log(x,10))    # log_10(x)\n",
    "print(math.fabs(-4))     # wartość bezwzględna\n",
    "print(math.factorial(x)) # 4! "
   ]
  },
  {
   "cell_type": "code",
   "execution_count": null,
   "metadata": {
    "slideshow": {
     "slide_type": "slide"
    }
   },
   "outputs": [],
   "source": [
    "z = 0.2\n",
    "print(math.ceil(z))      # najmniejszy float z wartością dziesiętną 0 nie mniejszy niż z (1.0)\n",
    "print(math.floor(z))     # największy float z wartością dziesiętną 0 nie większy niż z (0.0)\n",
    "print(math.trunc(z))     # najbliższy integer nie większy niż z (0)\n",
    "\n",
    "z = math.pi              # 3.141592653589793 \n",
    "print(math.sin(z))       # sinus kąta z (miara łukowa)\n",
    "print(math.tanh(z))      # tangens hiperboliczny kąta z (miara łukowa)\n",
    "\n",
    "x = math.nan             # wartość specjalna NaN (not a number)\n",
    "print(math.isnan(x))\n",
    "\n",
    "x = math.inf             # nieskończoność\n",
    "print(math.isinf(x))"
   ]
  },
  {
   "cell_type": "markdown",
   "metadata": {
    "slideshow": {
     "slide_type": "slide"
    }
   },
   "source": [
    "## NumPy - bibloteka do obliczeń numerycznych\n",
    "\n",
    "NumPy tutorial: <https://numpy.org/devdocs/user/quickstart.html>"
   ]
  },
  {
   "cell_type": "code",
   "execution_count": null,
   "metadata": {},
   "outputs": [],
   "source": [
    "import numpy as np"
   ]
  },
  {
   "cell_type": "code",
   "execution_count": null,
   "metadata": {},
   "outputs": [],
   "source": [
    "a = np.array([1, 2, 3])     # tablica numpy (ndarray), 1-wymiarowa (wektor)\n",
    "print(a)\n",
    "print(type(a))"
   ]
  },
  {
   "cell_type": "code",
   "execution_count": null,
   "metadata": {
    "slideshow": {
     "slide_type": "-"
    }
   },
   "outputs": [],
   "source": [
    "print(a.ndim)       # liczba wymiarów\n",
    "print(a.shape)      # wymiary (kształt) macierzy\n",
    "print(a.dtype)      # typ danych\n",
    "print(a.size)       # liczba elementów"
   ]
  },
  {
   "cell_type": "code",
   "execution_count": null,
   "metadata": {
    "slideshow": {
     "slide_type": "slide"
    }
   },
   "outputs": [],
   "source": [
    "b = np.array([[1.1, 2, 3], [3, 5, 6]])   # tablica 2-wymiarowa\n",
    "print(b)"
   ]
  },
  {
   "cell_type": "code",
   "execution_count": null,
   "metadata": {},
   "outputs": [],
   "source": [
    "print(b.ndim)       # liczba wymiarów\n",
    "print(b.shape)      # wymiary (kształt) macierzy\n",
    "print(b.dtype)      # typ danych\n",
    "print(b.size)       # liczba elementów"
   ]
  },
  {
   "cell_type": "markdown",
   "metadata": {
    "slideshow": {
     "slide_type": "slide"
    }
   },
   "source": [
    "### Funkcje do generowania tablic"
   ]
  },
  {
   "cell_type": "code",
   "execution_count": null,
   "metadata": {},
   "outputs": [],
   "source": [
    "np.random.rand(4)           # liczby losowe z rozkładu jednostajnego [0,1]"
   ]
  },
  {
   "cell_type": "code",
   "execution_count": null,
   "metadata": {},
   "outputs": [],
   "source": [
    "np.random.randn(5)          # rozkład normalny"
   ]
  },
  {
   "cell_type": "code",
   "execution_count": null,
   "metadata": {},
   "outputs": [],
   "source": [
    "np.arange(-10,10,2)         # wartości od -10 do 10 z krokiem 2"
   ]
  },
  {
   "cell_type": "code",
   "execution_count": null,
   "metadata": {},
   "outputs": [],
   "source": [
    "np.arange(12).reshape(3,4)  # reshape to a matrix"
   ]
  },
  {
   "cell_type": "code",
   "execution_count": null,
   "metadata": {},
   "outputs": [],
   "source": [
    "np.linspace(0,1,10)         # 10 kolejnych wartości z odcinka [0,1]"
   ]
  },
  {
   "cell_type": "code",
   "execution_count": null,
   "metadata": {
    "slideshow": {
     "slide_type": "slide"
    }
   },
   "outputs": [],
   "source": [
    "np.zeros((3,5))             # macierz zerowa"
   ]
  },
  {
   "cell_type": "code",
   "execution_count": null,
   "metadata": {},
   "outputs": [],
   "source": [
    "np.eye(5)                   # macierz jednostkowa (diagonalna)"
   ]
  },
  {
   "cell_type": "code",
   "execution_count": null,
   "metadata": {},
   "outputs": [],
   "source": [
    "np.ones((5,1))              # macierz jedynek"
   ]
  },
  {
   "cell_type": "markdown",
   "metadata": {
    "slideshow": {
     "slide_type": "slide"
    }
   },
   "source": [
    "### Zmiana kształtu mcierzy"
   ]
  },
  {
   "cell_type": "code",
   "execution_count": null,
   "metadata": {},
   "outputs": [],
   "source": [
    "x = np.arange(12)\n",
    "print(x.shape)\n",
    "print(x)"
   ]
  },
  {
   "cell_type": "code",
   "execution_count": null,
   "metadata": {},
   "outputs": [],
   "source": [
    "y = x.reshape([3,4])\n",
    "print(y.shape)\n",
    "print(y)"
   ]
  },
  {
   "cell_type": "markdown",
   "metadata": {
    "slideshow": {
     "slide_type": "slide"
    }
   },
   "source": [
    "### Operacje na macierzach"
   ]
  },
  {
   "cell_type": "code",
   "execution_count": null,
   "metadata": {},
   "outputs": [],
   "source": [
    "x = np.array([1,2,3,4,5])"
   ]
  },
  {
   "cell_type": "markdown",
   "metadata": {},
   "source": [
    "Macierz i skalar"
   ]
  },
  {
   "cell_type": "code",
   "execution_count": null,
   "metadata": {},
   "outputs": [],
   "source": [
    "print(x + 1)      # addition \n",
    "print(x - 1)      # subtraction\n",
    "print(x * 2)      # multiplication\n",
    "print(x // 2)     # integer division\n",
    "print(x ** 2)     # square\n",
    "print(x % 2)      # modulo  \n",
    "print(1 / x)      # division"
   ]
  },
  {
   "cell_type": "markdown",
   "metadata": {},
   "source": [
    "Dwie macierze o tych samych wymiarach"
   ]
  },
  {
   "cell_type": "code",
   "execution_count": null,
   "metadata": {
    "slideshow": {
     "slide_type": "slide"
    }
   },
   "outputs": [],
   "source": [
    "x = np.array([0,2,4,6,8,10]).reshape([2,3])\n",
    "y = np.array([1,2,3,4,5,6]).reshape([2,3])\n",
    "\n",
    "print(x + y)\n",
    "print(x - y)\n",
    "print(x * y)    # mnożenie element po elemencie\n",
    "print(x / y)    # \n",
    "print(x // y)\n",
    "print(x ** y)"
   ]
  },
  {
   "cell_type": "markdown",
   "metadata": {
    "slideshow": {
     "slide_type": "slide"
    }
   },
   "source": [
    "### Transpozycja, mnożenie macierzowe"
   ]
  },
  {
   "cell_type": "code",
   "execution_count": null,
   "metadata": {
    "slideshow": {
     "slide_type": "-"
    }
   },
   "outputs": [],
   "source": [
    "# transpozycja \n",
    "a = x.T\n",
    "print(a)"
   ]
  },
  {
   "cell_type": "code",
   "execution_count": null,
   "metadata": {
    "slideshow": {
     "slide_type": "-"
    }
   },
   "outputs": [],
   "source": [
    "# mnożenie macierzy\n",
    "b = np.dot(x.T, y)\n",
    "print(b)"
   ]
  },
  {
   "cell_type": "markdown",
   "metadata": {
    "slideshow": {
     "slide_type": "slide"
    }
   },
   "source": [
    "### Indeksowanie elementów macierzy"
   ]
  },
  {
   "cell_type": "code",
   "execution_count": null,
   "metadata": {},
   "outputs": [],
   "source": [
    "x = np.array([11 ,22 ,33, 44, 55, 66])\n",
    "print(x)\n",
    "\n",
    "y = x[3:5]     # y jest przekrojem (slice) macierzy x elementów od 3 do 4, macierz y wskazuje wybrane dane z x\n",
    "print(y)"
   ]
  },
  {
   "cell_type": "code",
   "execution_count": null,
   "metadata": {},
   "outputs": [],
   "source": [
    "y[:] = 1000    # zmiana elementów y, zmieni się też x (obie macierze to widok na te same dane w pamięci)\n",
    "print(y)\n",
    "print(x)"
   ]
  },
  {
   "cell_type": "code",
   "execution_count": null,
   "metadata": {},
   "outputs": [],
   "source": [
    "z = x[3:5].copy()   # utworzenie kopii macierzy, elementy z leżą w innej przestrzeni pamięci niż x i y\n",
    "print(z)"
   ]
  },
  {
   "cell_type": "code",
   "execution_count": null,
   "metadata": {},
   "outputs": [],
   "source": [
    "z[:] = 500          # zmiana z nie zmieni x\n",
    "print(z)\n",
    "print(x)"
   ]
  },
  {
   "cell_type": "code",
   "execution_count": null,
   "metadata": {
    "slideshow": {
     "slide_type": "slide"
    }
   },
   "outputs": [],
   "source": [
    "x = np.arange(12).reshape((3,4))\n",
    "\n",
    "print(x)\n",
    "print(x[2,:])       # trzeci wiersz\n",
    "print(x[:, 2])       # trzecia kolumna \n",
    "print(x[:2, 2:])     # dwa pierwsze wiersze i dwie ostatnie kolumny"
   ]
  },
  {
   "cell_type": "markdown",
   "metadata": {
    "slideshow": {
     "slide_type": "slide"
    }
   },
   "source": [
    "### Indeksowanie warunkowe "
   ]
  },
  {
   "cell_type": "code",
   "execution_count": null,
   "metadata": {},
   "outputs": [],
   "source": [
    "x = np.arange(12).reshape(3,4)\n",
    "\n",
    "print(x > 5)\n",
    "\n",
    "x[ x > 5 ] = 0   # wyzerowanie el. większych od 5\n",
    "print(x)"
   ]
  },
  {
   "cell_type": "code",
   "execution_count": null,
   "metadata": {},
   "outputs": [],
   "source": [
    "ind = x == 0        # zapamietanie indeksów spełniających warunek x == 0 \n",
    "print(ind)          # ndarray typu bool\n",
    "print(x[ind])       # elementy x[] spełniające warunek\n",
    "print(x[~ind])      # negacja "
   ]
  },
  {
   "cell_type": "markdown",
   "metadata": {
    "slideshow": {
     "slide_type": "slide"
    }
   },
   "source": [
    "### Przydatne funkcje"
   ]
  },
  {
   "cell_type": "code",
   "execution_count": null,
   "metadata": {},
   "outputs": [],
   "source": [
    "y = np.random.rand(10) - 0.5\n",
    "print(y)\n",
    "\n",
    "print(np.abs(y))          # wartośc bezwzględna elementów\n",
    "print(np.exp(y))          # exponent elementów"
   ]
  },
  {
   "cell_type": "code",
   "execution_count": null,
   "metadata": {},
   "outputs": [],
   "source": [
    "print(np.sort(y))                     # sortowanie\n",
    "print(\"Min =\", np.min(y))             # minimalny element \n",
    "print(\"Max =\", np.max(y))             # maksymalny welement\n",
    "print(\"Average =\", np.mean(y))        # średnia wartość wszystkich elementów\n",
    "print(\"Std deviation =\", np.std(y))   # odchylenie standardowe  \n",
    "print(\"Sum =\", np.sum(y))             # suma wszystkich elementów "
   ]
  },
  {
   "cell_type": "code",
   "execution_count": null,
   "metadata": {
    "slideshow": {
     "slide_type": "slide"
    }
   },
   "outputs": [],
   "source": [
    "x = np.random.rand(5, 2)\n",
    "\n",
    "print(x)\n",
    "\n",
    "print('Min axis=0: ', np.min(x, axis=0))     # min. wzgl. wymiaru 0 (w kolumnach)\n",
    "print('Min axis=1: ', np.min(x, axis=1))     # min. wzgl. wymiaru 1 (w wierszach)"
   ]
  },
  {
   "cell_type": "markdown",
   "metadata": {
    "slideshow": {
     "slide_type": "slide"
    }
   },
   "source": [
    "### Optymalizacja czasu wykonywania operacji macierzowych"
   ]
  },
  {
   "cell_type": "code",
   "execution_count": null,
   "metadata": {},
   "outputs": [],
   "source": [
    "n = 1000\n",
    "x = np.random.rand(n)\n",
    "y = np.random.rand(n)\n",
    "z = np.zeros(x.shape)    # pre-alokacja macierzy z"
   ]
  },
  {
   "cell_type": "code",
   "execution_count": null,
   "metadata": {},
   "outputs": [],
   "source": [
    "%%timeit \n",
    "# mnożenie za pomoca operatora *\n",
    "z = x * y"
   ]
  },
  {
   "cell_type": "code",
   "execution_count": null,
   "metadata": {},
   "outputs": [],
   "source": [
    "%%timeit \n",
    "# mnożenie za pomoca funkcji multiply()\n",
    "z = np.multiply(x, y)"
   ]
  },
  {
   "cell_type": "code",
   "execution_count": null,
   "metadata": {},
   "outputs": [],
   "source": [
    "%%timeit\n",
    "# mnożenie w pętli\n",
    "for i in range(n):\n",
    "    z[i] = x[i] * y[i]"
   ]
  },
  {
   "cell_type": "markdown",
   "metadata": {
    "slideshow": {
     "slide_type": "slide"
    }
   },
   "source": [
    "## MatPlotLib - wykresy\n",
    "\n",
    "Tutorial: <https://matplotlib.org/tutorials/index.html>"
   ]
  },
  {
   "cell_type": "code",
   "execution_count": null,
   "metadata": {},
   "outputs": [],
   "source": [
    "import matplotlib.pyplot as plt"
   ]
  },
  {
   "cell_type": "markdown",
   "metadata": {
    "slideshow": {
     "slide_type": "slide"
    }
   },
   "source": [
    "### Wykres liniowy"
   ]
  },
  {
   "cell_type": "markdown",
   "metadata": {},
   "source": [
    "Narysujmy przebieg funkcji sigmoidalnej $f(x) = \\frac{1}{1+e^{-\\alpha x}}$ na odcinku [-5, 5]\n",
    "\n"
   ]
  },
  {
   "cell_type": "code",
   "execution_count": null,
   "metadata": {},
   "outputs": [],
   "source": [
    "x = np.linspace(-5, 5, 100)\n",
    "y = 1.0 / (1.0 + np.exp(-x))\n",
    "\n",
    "plt.plot(x, y)"
   ]
  },
  {
   "cell_type": "markdown",
   "metadata": {
    "slideshow": {
     "slide_type": "slide"
    }
   },
   "source": [
    "Funkcji sigmoidalna ze współczynnikiem nachylenia $\\alpha=0.5, 1, 2, 100$"
   ]
  },
  {
   "cell_type": "code",
   "execution_count": null,
   "metadata": {},
   "outputs": [],
   "source": [
    "for a in [0.5, 1.0, 2.0, 100]:\n",
    "    y = 1.0 / (1.0 + np.exp(-x * a))\n",
    "    plt.plot(x, y, label='a=' + str(a))\n",
    "\n",
    "plt.title('Funkcja sigmoidalna')\n",
    "plt.xlabel('x')\n",
    "plt.ylabel('f(x)')\n",
    "plt.legend()\n"
   ]
  },
  {
   "cell_type": "markdown",
   "metadata": {
    "slideshow": {
     "slide_type": "slide"
    }
   },
   "source": [
    "## Wykres punktowy (wykres rozrzutu)"
   ]
  },
  {
   "cell_type": "code",
   "execution_count": null,
   "metadata": {},
   "outputs": [],
   "source": [
    "x1 = np.random.randn(100, 2)\n",
    "x2 = np.random.randn(100, 2) * 3 + 2\n",
    "\n",
    "plt.plot(x1[:,0], x1[:,1], 'ro')   # red circle (o)\n",
    "plt.plot(x2[:,0], x2[:,1], 'bx')   # blue cross (x)"
   ]
  },
  {
   "cell_type": "markdown",
   "metadata": {
    "slideshow": {
     "slide_type": "slide"
    }
   },
   "source": [
    "### Wykres słupkowy i kołowy"
   ]
  },
  {
   "cell_type": "code",
   "execution_count": null,
   "metadata": {},
   "outputs": [],
   "source": [
    "x = ['a', 'b', 'c']\n",
    "y = [3, 5, 12]\n",
    "\n",
    "plt.bar(x, y)"
   ]
  },
  {
   "cell_type": "code",
   "execution_count": null,
   "metadata": {
    "slideshow": {
     "slide_type": "slide"
    }
   },
   "outputs": [],
   "source": [
    "plt.pie(y, labels=x)"
   ]
  },
  {
   "cell_type": "markdown",
   "metadata": {
    "slideshow": {
     "slide_type": "slide"
    }
   },
   "source": [
    "### Histogram"
   ]
  },
  {
   "cell_type": "code",
   "execution_count": null,
   "metadata": {},
   "outputs": [],
   "source": [
    "x = np.random.randn(10000, 1) * 3 + 2\n",
    "plt.hist(x)"
   ]
  },
  {
   "cell_type": "code",
   "execution_count": null,
   "metadata": {
    "slideshow": {
     "slide_type": "slide"
    }
   },
   "outputs": [],
   "source": [
    "import matplotlib.pyplot as plt\n",
    "data = np.loadtxt('dane/iris.data', delimiter=',')\n",
    "\n",
    "plt.hist(data[:, 2], bins=20)"
   ]
  },
  {
   "cell_type": "code",
   "execution_count": null,
   "metadata": {
    "slideshow": {
     "slide_type": "slide"
    }
   },
   "outputs": [],
   "source": [
    "plt.hist(data[data[:,4] == 0, 2], label='Setosa')\n",
    "plt.hist(data[data[:,4] != 0, 2], label='Not Setosa')\n",
    "plt.legend()\n"
   ]
  },
  {
   "cell_type": "code",
   "execution_count": null,
   "metadata": {
    "slideshow": {
     "slide_type": "slide"
    }
   },
   "outputs": [],
   "source": [
    "plt.figure(figsize=(10,10))\n",
    "for i in (0, 1, 2):\n",
    "    plt.plot(data[data[:,4]==i, 2], data[data[:,4]==i, 3], 'o')\n",
    "plt.xlabel(\"Długośc płatka\")\n",
    "plt.ylabel('Szerokość płatka')\n",
    "plt.show()"
   ]
  },
  {
   "cell_type": "markdown",
   "metadata": {
    "slideshow": {
     "slide_type": "slide"
    }
   },
   "source": [
    "## Zadanie: Włoskie wina\n",
    "\n",
    "Wykonaj analizę danych Wine zgodnie z poniższymi punktami.  \n",
    "Zbiór danych znajduje się w katalogu repizytorium ''dane/wine.data'' oraz pod adresem http://www.fizyka.umk.pl/~grochu/wdm/files/wine.data  \n",
    "\n",
    "Plik ''wine.data'' zawiera pomiary własności chemicznych 3 odmian Włoskich win.  \n",
    "Format danych:  \n",
    "```\n",
    "  1,14.23,1.71,2.43,15.6,127,2.8,3.06,.28,2.29,5.64,1.04,3.92,1065\n",
    "  2,13.2,1.78,2.14,11.2,100,2.65,2.76,.26,1.28,4.38,1.05,3.4,1050\n",
    "  3,13.16,2.36,2.67,18.6,101,2.8,3.24,.3,2.81,5.68,1.03,3.17,1185\n",
    "   ...\n",
    "```\n",
    "Każda linia zawiera 14 liczb oddzielonych przecinkami określających wartości pomiaru dla pojedynczego wina.  \n",
    "Pierwsza zmienna to odmiana wina (wartość 1, 2 lub 3) pozostałe to zmienne ciągłe (wyniki pomiarów):\n",
    "```\n",
    "  1 Odmiana (1,2,3),  \n",
    "  2 Alcohol,  \n",
    "  3 Malic acid,  \n",
    "  4 Ash,  \n",
    "  5 Alcalinity of ash,  \n",
    "  6 Magnesium,  \n",
    "  7 Total phenols, \n",
    "  8 Flavanoids,  \n",
    "  9 Nonflavanoid phenols,  \n",
    "  10 Proanthocyanins,  \n",
    "  11 Color intensity,  \n",
    "  12 Hue,  \n",
    "  13 OD280/OD315 of diluted wines, \n",
    "  14 Proline \n",
    "```\n",
    "---"
   ]
  },
  {
   "cell_type": "markdown",
   "metadata": {
    "slideshow": {
     "slide_type": "slide"
    }
   },
   "source": [
    "1. Wczytaj do macierzy ''numpy'' dane liczbowe umieszczone w pliku  ''wine.data'' (http://www.fizyka.umk.pl/~grochu/wdm/files/wine.data)    "
   ]
  },
  {
   "cell_type": "code",
   "execution_count": null,
   "metadata": {},
   "outputs": [],
   "source": [
    "\n",
    "\n",
    "\n",
    "\n"
   ]
  },
  {
   "cell_type": "markdown",
   "metadata": {
    "slideshow": {
     "slide_type": "slide"
    }
   },
   "source": [
    "2. Dla każdej zmiennej wyznacz wartość:   \n",
    "\n",
    "* minimalną \n",
    "* maksymalną, \n",
    "* średnią, \n",
    "* medianę \n",
    "* odchylenie standardowe  "
   ]
  },
  {
   "cell_type": "code",
   "execution_count": null,
   "metadata": {},
   "outputs": [],
   "source": [
    "\n",
    "\n",
    "\n",
    "\n"
   ]
  },
  {
   "cell_type": "markdown",
   "metadata": {
    "slideshow": {
     "slide_type": "slide"
    }
   },
   "source": [
    "3. Wyznacz wartości średnie stężenia alkoholu (zmienna `Alcohol`) osobno dla każdego z 3 rodzajów win."
   ]
  },
  {
   "cell_type": "code",
   "execution_count": null,
   "metadata": {},
   "outputs": [],
   "source": [
    "\n",
    "\n",
    "\n",
    "\n",
    "\n"
   ]
  },
  {
   "cell_type": "markdown",
   "metadata": {
    "slideshow": {
     "slide_type": "slide"
    }
   },
   "source": [
    "4. Wyrysuj histogram dla zmiennejokreslającej stężenie alkoholu (`Alcohol`). Postaraj się wykonac histogram, który zapresentuje rozkład danych w każdej z 3 odmian win. Wykresy mogą być zrobione osobno dla kazdej grupy lub w postaci pojedynczego histogramu, gdzie każda odmiana wina oznaczona jest innym kolorem."
   ]
  },
  {
   "cell_type": "code",
   "execution_count": null,
   "metadata": {},
   "outputs": [],
   "source": [
    "\n",
    "\n",
    "\n"
   ]
  },
  {
   "cell_type": "markdown",
   "metadata": {
    "slideshow": {
     "slide_type": "slide"
    }
   },
   "source": [
    "5. Jezeli pewne wino podiada stężenie alkoholu mniejsze od 13.0 to do której grupy możemy je zaliczyć?\n",
    "Spróbuj wyznaczyć prawdopodobieństwo przynalezenia takiego wina do kazdej z 3 grup. Wynik przedstaw za pomocą wykresu słupkowego.    \n",
    "Podpowiedź: wyznacz liczebnośc win, każdego rodzaju dla ktorych spełnione jest `Alcohol` < 13"
   ]
  },
  {
   "cell_type": "code",
   "execution_count": null,
   "metadata": {},
   "outputs": [],
   "source": [
    "\n",
    "\n",
    "\n"
   ]
  },
  {
   "cell_type": "markdown",
   "metadata": {
    "slideshow": {
     "slide_type": "slide"
    }
   },
   "source": [
    "6. Sprawdź, czy istnieje relacja między wartościami stężenia alkoholu (``Alcohol``) a zawartością proliny (``Proline``) ?     \n",
    "Sporządź wykres punktowy (rozrzutu) obrazujący zależność tych zmiennych.  "
   ]
  },
  {
   "cell_type": "code",
   "execution_count": null,
   "metadata": {
    "scrolled": false
   },
   "outputs": [],
   "source": [
    "\n",
    "\n",
    "\n"
   ]
  },
  {
   "cell_type": "markdown",
   "metadata": {
    "slideshow": {
     "slide_type": "slide"
    }
   },
   "source": [
    "7. Sporządź wykres punktowy (rozrzutu) prezentujący rozklad danych w grupach win dla zmiennych ``Alcohol`` i ``Flavonoids`` - odmiany win na wykresie powinnybyć oznaczone róznymi kolorami.    \n",
    "Na podstawie wykresu sprubuj odpowiedzeić, do jakiej grupy win najprawdopodobniej bedzie należało wino posiadające stężenie alkoholu 12.5 oraz zawartość flawanoidów równą 2.0 ? "
   ]
  },
  {
   "cell_type": "code",
   "execution_count": null,
   "metadata": {
    "slideshow": {
     "slide_type": "-"
    }
   },
   "outputs": [],
   "source": [
    "\n",
    "\n",
    "\n",
    "\n"
   ]
  }
 ],
 "metadata": {
  "celltoolbar": "Slideshow",
  "kernelspec": {
   "display_name": "Python 3 (ipykernel)",
   "language": "python",
   "name": "python3"
  },
  "language_info": {
   "codemirror_mode": {
    "name": "ipython",
    "version": 3
   },
   "file_extension": ".py",
   "mimetype": "text/x-python",
   "name": "python",
   "nbconvert_exporter": "python",
   "pygments_lexer": "ipython3",
   "version": "3.9.7"
  },
  "toc": {
   "base_numbering": 1,
   "nav_menu": {},
   "number_sections": true,
   "sideBar": true,
   "skip_h1_title": false,
   "title_cell": "Table of Contents",
   "title_sidebar": "Contents",
   "toc_cell": false,
   "toc_position": {},
   "toc_section_display": true,
   "toc_window_display": false
  },
  "varInspector": {
   "cols": {
    "lenName": 16,
    "lenType": 16,
    "lenVar": 40
   },
   "kernels_config": {
    "python": {
     "delete_cmd_postfix": "",
     "delete_cmd_prefix": "del ",
     "library": "var_list.py",
     "varRefreshCmd": "print(var_dic_list())"
    },
    "r": {
     "delete_cmd_postfix": ") ",
     "delete_cmd_prefix": "rm(",
     "library": "var_list.r",
     "varRefreshCmd": "cat(var_dic_list()) "
    }
   },
   "types_to_exclude": [
    "module",
    "function",
    "builtin_function_or_method",
    "instance",
    "_Feature"
   ],
   "window_display": false
  }
 },
 "nbformat": 4,
 "nbformat_minor": 4
}
