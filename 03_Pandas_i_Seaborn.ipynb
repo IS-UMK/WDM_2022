{
 "cells": [
  {
   "cell_type": "markdown",
   "metadata": {
    "slideshow": {
     "slide_type": "slide"
    }
   },
   "source": [
    "# Wprowadzenie do Pandas i Seaborn"
   ]
  },
  {
   "cell_type": "markdown",
   "metadata": {
    "slideshow": {
     "slide_type": "slide"
    }
   },
   "source": [
    "## Pandas\n",
    "\n",
    "Pakiet Pandas udostępnia dwa obiekty służące do wygodnego przechowywania danych i ułatwiających manipulowanie danymi:\n",
    "* **Series** to obiekt reprezentujący jednowymiarową tablicę danych\n",
    "* **DataFrame** to dwu-wymiarowa tabela danych (zbiór obiektów series)\n",
    "\n",
    "Pandas WWW: <https://pandas.pydata.org/>  \n",
    "Pandas Tutorial: <https://pandas.pydata.org/docs/getting_started/intro_tutorials/index.html>"
   ]
  },
  {
   "cell_type": "markdown",
   "metadata": {
    "slideshow": {
     "slide_type": "slide"
    }
   },
   "source": [
    "## Series\n",
    "\n",
    "Seria jest obiektem reprezentującym jednowymiarową tablicę danych, której elementy są indeksowane. Seria może być utworzona z dowolnej kolekcji liczb: krotki, listy, tablicy numpy a nawet ze słownika. Obiekt Series udostępnia wiele metod pozwalających operować na danych w serii, zawiera też  metody do wizualizowania danych. Dodatkowo, wiele funkcji z pakietu numpy może byc użytych na tym obiekcie, jeżeli tylko seria zawiera liczby."
   ]
  },
  {
   "cell_type": "code",
   "execution_count": null,
   "metadata": {
    "slideshow": {
     "slide_type": "-"
    }
   },
   "outputs": [],
   "source": [
    "import pandas as pd\n",
    "\n",
    "s = pd.Series([3.1, 2.4, -1.7, 0.2, -2.9, 4.5])   # seria utworzona z listy liczb\n",
    "\n",
    "print(s)\n",
    "print('Values=', s.values)     # wartości serii\n",
    "print('Index=', s.index)       # indeksy  serii \n",
    "print('Pierwszy element:', s[0])  "
   ]
  },
  {
   "cell_type": "markdown",
   "metadata": {
    "slideshow": {
     "slide_type": "slide"
    }
   },
   "source": [
    "W odróżnieniu do tablic indeksami nie muszą być liczby całkowite. "
   ]
  },
  {
   "cell_type": "code",
   "execution_count": null,
   "metadata": {},
   "outputs": [],
   "source": [
    "import numpy as np\n",
    "\n",
    "s = pd.Series(np.random.randn(5), index=['a', 'b', 'c', 'd', 'e'])\n",
    "s"
   ]
  },
  {
   "cell_type": "code",
   "execution_count": null,
   "metadata": {},
   "outputs": [],
   "source": [
    "print('Values=', s.values)   # wartości, to tablica numpy\n",
    "print('Index=', s.index)     # indeksy"
   ]
  },
  {
   "cell_type": "code",
   "execution_count": null,
   "metadata": {},
   "outputs": [],
   "source": [
    "print(s['a'])     # indeksowanie za pomocą napisów\n",
    "print(s[0])       # indeksowanie liczbami całkowitymi nadal działa"
   ]
  },
  {
   "cell_type": "markdown",
   "metadata": {
    "slideshow": {
     "slide_type": "slide"
    }
   },
   "source": [
    "Obiekt Series w wielu sytuacjach zachowuje się podobnie do tablic NumPy.  \n",
    "W podobny sposób indeksuje się elementy serii, z tą różnicą, że przekroje również dotyczą indeksów."
   ]
  },
  {
   "cell_type": "code",
   "execution_count": null,
   "metadata": {},
   "outputs": [],
   "source": [
    "s = pd.Series([1.2, 2.5, -2.2, 3.1, -0.8], \n",
    "            index = ['pn','wt','śr','czw','pt'])\n",
    "s"
   ]
  },
  {
   "cell_type": "code",
   "execution_count": null,
   "metadata": {},
   "outputs": [],
   "source": [
    "s[1:3]          # przekrój serii (elementy od 1 do 2)"
   ]
  },
  {
   "cell_type": "code",
   "execution_count": null,
   "metadata": {},
   "outputs": [],
   "source": [
    "s['wt':'czw']    # elementy od wt do czw (zauważ, że ostatni element 'czw' też jest włączony)"
   ]
  },
  {
   "cell_type": "markdown",
   "metadata": {
    "slideshow": {
     "slide_type": "slide"
    }
   },
   "source": [
    "Filtrowanie za pomocą reguł logicznych"
   ]
  },
  {
   "cell_type": "code",
   "execution_count": null,
   "metadata": {
    "slideshow": {
     "slide_type": "-"
    }
   },
   "outputs": [],
   "source": [
    "s[s > 0]"
   ]
  },
  {
   "cell_type": "code",
   "execution_count": null,
   "metadata": {},
   "outputs": [],
   "source": [
    "s[(s > 0) & (s < 3) | (s.index == 'pt')]"
   ]
  },
  {
   "cell_type": "markdown",
   "metadata": {
    "slideshow": {
     "slide_type": "slide"
    }
   },
   "source": [
    "Gdy seria zawiera wartości numeryczne to można wykonywać na niej operacje arytmetyczne i funkcje NumPy"
   ]
  },
  {
   "cell_type": "code",
   "execution_count": null,
   "metadata": {
    "slideshow": {
     "slide_type": "-"
    }
   },
   "outputs": [],
   "source": [
    "s + 4"
   ]
  },
  {
   "cell_type": "code",
   "execution_count": null,
   "metadata": {
    "slideshow": {
     "slide_type": "-"
    }
   },
   "outputs": [],
   "source": [
    "np.exp(s + 1)"
   ]
  },
  {
   "cell_type": "markdown",
   "metadata": {
    "slideshow": {
     "slide_type": "slide"
    }
   },
   "source": [
    "## Series: statystyki opisowe\n",
    "Obiekt serii posiada wiele metod operujących na jednowymiarowej serii danych, np. funkcje statystyczne (np. min, median) ale także metody wizualizujące dane (np. hist, plot).   \n",
    "\n",
    "Lista metod klasy Series: <https://pandas.pydata.org/pandas-docs/stable/reference/api/pandas.Series.html>"
   ]
  },
  {
   "cell_type": "code",
   "execution_count": null,
   "metadata": {},
   "outputs": [],
   "source": [
    "s = pd.Series(np.random.randn(1000))\n",
    "\n",
    "print(s.head())    \n",
    "print('Sredna', s.mean())\n",
    "print('Mediana', s.median())"
   ]
  },
  {
   "cell_type": "markdown",
   "metadata": {
    "slideshow": {
     "slide_type": "slide"
    }
   },
   "source": [
    "Funkcja ``describe()`` - podstawowe statystyki opisowe"
   ]
  },
  {
   "cell_type": "code",
   "execution_count": null,
   "metadata": {
    "slideshow": {
     "slide_type": "-"
    }
   },
   "outputs": [],
   "source": [
    "s = pd.Series(5.0 * np.random.randn(1000) + 2.0 )\n",
    "s.describe()"
   ]
  },
  {
   "cell_type": "code",
   "execution_count": null,
   "metadata": {},
   "outputs": [],
   "source": [
    "# dla zmiennej dyskretnej\n",
    "s2 = pd.Series(['Orzeł', 'Reszka', 'Orzeł','Orzeł', 'Reszka' ])\n",
    "s2.describe()"
   ]
  },
  {
   "cell_type": "markdown",
   "metadata": {
    "slideshow": {
     "slide_type": "slide"
    }
   },
   "source": [
    "Funkcje wykresów korzystają z matplotlib"
   ]
  },
  {
   "cell_type": "code",
   "execution_count": null,
   "metadata": {
    "slideshow": {
     "slide_type": "-"
    }
   },
   "outputs": [],
   "source": [
    "s = pd.Series(5.0 * np.random.randn(1000) + 2.0 )\n",
    "\n",
    "s[:10].plot()"
   ]
  },
  {
   "cell_type": "code",
   "execution_count": null,
   "metadata": {},
   "outputs": [],
   "source": [
    "s.plot(kind='hist')"
   ]
  },
  {
   "attachments": {
    "4f98748b-7f54-4401-852b-369c5ffa1c7e.png": {
     "image/png": "[encoded data removed]"
    }
   },
   "cell_type": "markdown",
   "metadata": {
    "slideshow": {
     "slide_type": "slide"
    }
   },
   "source": [
    "## DataFrame\n",
    "\n",
    "Obiekt `DataFrame` reprezentuje 2-wymiarową tabelę danych, która posiada indeksowane kolumny oraz wiersze.  \n",
    "Każda kolumna to obiekt Series. Kolumna reprezentuje zmienną i może zawierać elementy różnego typu (liczby, wartości kategoryczne, napisy, serie czasowe, itd.). \n",
    "\n",
    "<div>\n",
    "<img src=\"attachment:4f98748b-7f54-4401-852b-369c5ffa1c7e.png\" width=\"600\">\n",
    "</div>\n",
    "\n"
   ]
  },
  {
   "cell_type": "markdown",
   "metadata": {
    "slideshow": {
     "slide_type": "slide"
    }
   },
   "source": [
    "Tworzenie tablic DataFrame (np. z tablicy numpy)"
   ]
  },
  {
   "cell_type": "code",
   "execution_count": null,
   "metadata": {
    "slideshow": {
     "slide_type": "-"
    }
   },
   "outputs": [],
   "source": [
    "\n",
    "df = pd.DataFrame(np.random.rand(4,3), columns=['zmienna 1', 'zmienna 2', 'zmienna 3'])\n",
    "display(df)"
   ]
  },
  {
   "cell_type": "markdown",
   "metadata": {
    "slideshow": {
     "slide_type": "slide"
    }
   },
   "source": [
    "Kolumny (zmienne) indeksowane za pomocą nazw zmiennych."
   ]
  },
  {
   "cell_type": "code",
   "execution_count": null,
   "metadata": {},
   "outputs": [],
   "source": [
    "df['zmienna 2']   # wynikiem jest seria"
   ]
  },
  {
   "cell_type": "markdown",
   "metadata": {
    "slideshow": {
     "slide_type": "-"
    }
   },
   "source": [
    "Kolumna tabeli jest obiektem Series"
   ]
  },
  {
   "cell_type": "code",
   "execution_count": null,
   "metadata": {},
   "outputs": [],
   "source": [
    "type(df['zmienna 2'])"
   ]
  },
  {
   "cell_type": "code",
   "execution_count": null,
   "metadata": {},
   "outputs": [],
   "source": [
    "df['zmienna 2'].plot();"
   ]
  },
  {
   "cell_type": "markdown",
   "metadata": {
    "slideshow": {
     "slide_type": "slide"
    }
   },
   "source": [
    "Dodawanie nowych kolumn w tabeli przypomina dodawanie nowych elementów do słownika."
   ]
  },
  {
   "cell_type": "code",
   "execution_count": null,
   "metadata": {},
   "outputs": [],
   "source": [
    "df['rok'] = 2021                              # dodanie kolumny ze stałą wartością\n",
    "df['x1'] = np.random.rand(4 )   \n",
    "df['liczby'] = ['raz', 'dwa', 'trzy', 'cztery']\n",
    "df['zm1+zm2'] = df['zmienna 1'] + df['zmienna 2']\n",
    "df                  "
   ]
  },
  {
   "cell_type": "markdown",
   "metadata": {},
   "source": [
    "Wypór kilku zmiennych"
   ]
  },
  {
   "cell_type": "code",
   "execution_count": null,
   "metadata": {
    "scrolled": true,
    "slideshow": {
     "slide_type": "slide"
    }
   },
   "outputs": [],
   "source": [
    "df[ ['rok','zmienna 1'] ]    "
   ]
  },
  {
   "cell_type": "markdown",
   "metadata": {},
   "source": [
    "Wynik jest typu DataFrame  - otrzymujemy nowy widok tabeli"
   ]
  },
  {
   "cell_type": "code",
   "execution_count": null,
   "metadata": {},
   "outputs": [],
   "source": [
    "type(df[['zmienna 1','rok']]) "
   ]
  },
  {
   "cell_type": "markdown",
   "metadata": {
    "slideshow": {
     "slide_type": "slide"
    }
   },
   "source": [
    "Kolumna dostępna jest też w poprzez atrybut obiektu DataFrame o tej samej nazwie"
   ]
  },
  {
   "cell_type": "code",
   "execution_count": null,
   "metadata": {
    "scrolled": true
   },
   "outputs": [],
   "source": [
    "df.rok           # to samo co df['rok']"
   ]
  },
  {
   "cell_type": "markdown",
   "metadata": {
    "slideshow": {
     "slide_type": "slide"
    }
   },
   "source": [
    "## Indeksowanie tablic DataFrame\n",
    "\n",
    "* atrybut `iloc[]` umożliwia indeksowanie za pomocą liczb całkowitych (lub macierzy boolowskich), podobnie jak w NumPy\n",
    "* atrybut `loc[]` umożliwia indeksowanie za pomocą etykiet oraz macierzy boolowskich"
   ]
  },
  {
   "cell_type": "code",
   "execution_count": null,
   "metadata": {
    "slideshow": {
     "slide_type": "-"
    }
   },
   "outputs": [],
   "source": [
    "display(df)\n",
    "\n",
    "df.iloc[2]    # wiersz 3, wynikiem jest seria elementów wiersza, elementy moga być różnego typu"
   ]
  },
  {
   "cell_type": "code",
   "execution_count": null,
   "metadata": {},
   "outputs": [],
   "source": [
    "df.iloc[2 ,1]    # 3 wiersz, 2 kolumna"
   ]
  },
  {
   "cell_type": "markdown",
   "metadata": {
    "slideshow": {
     "slide_type": "slide"
    }
   },
   "source": [
    "Indeksowanie zakresów dwukropkiem : podobnie jak w NumPy"
   ]
  },
  {
   "cell_type": "code",
   "execution_count": null,
   "metadata": {
    "slideshow": {
     "slide_type": "-"
    }
   },
   "outputs": [],
   "source": [
    "display(df)\n",
    "df.iloc[:, 2]   # trzecia kolumna tabeli -> wynikiem jest seria"
   ]
  },
  {
   "cell_type": "code",
   "execution_count": null,
   "metadata": {},
   "outputs": [],
   "source": [
    "df.iloc[:2, 1:3]     # przekrój danych (wiersze 0,1,2 i kolumny 1,2) -> wynik DataFrame"
   ]
  },
  {
   "cell_type": "code",
   "execution_count": null,
   "metadata": {
    "slideshow": {
     "slide_type": "slide"
    }
   },
   "outputs": [],
   "source": [
    "df.loc[2]    # tu indeksy są liczbami, więc działa tak samo jak iloc[]"
   ]
  },
  {
   "cell_type": "code",
   "execution_count": null,
   "metadata": {
    "slideshow": {
     "slide_type": "-"
    }
   },
   "outputs": [],
   "source": [
    "df.loc[:2]    # zauważ, że loc[] uwzględnia ostatni element indeksowania"
   ]
  },
  {
   "cell_type": "code",
   "execution_count": null,
   "metadata": {},
   "outputs": [],
   "source": [
    "df.loc[:2, 'rok':'x1']"
   ]
  },
  {
   "cell_type": "code",
   "execution_count": null,
   "metadata": {},
   "outputs": [],
   "source": [
    "df.loc[:2, ['rok', 'x1']]"
   ]
  },
  {
   "cell_type": "markdown",
   "metadata": {
    "slideshow": {
     "slide_type": "slide"
    }
   },
   "source": [
    "Filtrowanie za pomocą wyrażeń logicznych"
   ]
  },
  {
   "cell_type": "code",
   "execution_count": null,
   "metadata": {},
   "outputs": [],
   "source": [
    "df[ df['x1'] < 0.6 ]"
   ]
  },
  {
   "cell_type": "code",
   "execution_count": null,
   "metadata": {
    "slideshow": {
     "slide_type": "-"
    }
   },
   "outputs": [],
   "source": [
    "df[ (df.x1 < 0.6) | (df.liczby == \"trzy\") ]"
   ]
  },
  {
   "cell_type": "markdown",
   "metadata": {
    "slideshow": {
     "slide_type": "slide"
    }
   },
   "source": [
    "###  Operacje arytmetyczne i funkcje NumPy\n",
    "\n",
    "Jeżeli tablica zawiera dane liczbowe to można na nich wykonywać operacje arytmetyczne a nawet metody numpy."
   ]
  },
  {
   "cell_type": "code",
   "execution_count": null,
   "metadata": {},
   "outputs": [],
   "source": [
    "data = pd.DataFrame(np.random.rand(5, 3), columns=['x1', 'x2', 'x3'])\n",
    "print(data)\n",
    "\n",
    "print('Transpozycja:') \n",
    "print(data.T)    # transpozycja "
   ]
  },
  {
   "cell_type": "code",
   "execution_count": null,
   "metadata": {
    "slideshow": {
     "slide_type": "slide"
    }
   },
   "outputs": [],
   "source": [
    "print('Dodawanie:')\n",
    "print(data + 4)    # dodawanie liczby do wszystkich elementów"
   ]
  },
  {
   "cell_type": "code",
   "execution_count": null,
   "metadata": {},
   "outputs": [],
   "source": [
    "print('Mnożenie:')\n",
    "print(data * 10)   # mnożenie"
   ]
  },
  {
   "cell_type": "code",
   "execution_count": null,
   "metadata": {},
   "outputs": [],
   "source": [
    "print('np.exp():')\n",
    "print(np.exp(data))   # exp() dla wszystkich elementów"
   ]
  },
  {
   "cell_type": "markdown",
   "metadata": {
    "slideshow": {
     "slide_type": "slide"
    }
   },
   "source": [
    "## Import danych z plików CSV"
   ]
  },
  {
   "cell_type": "code",
   "execution_count": null,
   "metadata": {},
   "outputs": [],
   "source": [
    "tips = pd.read_csv('https://raw.githubusercontent.com/mwaskom/seaborn-data/master/tips.csv')\n",
    "tips"
   ]
  },
  {
   "cell_type": "markdown",
   "metadata": {
    "slideshow": {
     "slide_type": "slide"
    }
   },
   "source": [
    "Tablica DataFrame posiada wiele przydatnych metod ułatwiających operowanie danymi, wyznaczanie statystyk i sporządzenie wykresów.\n",
    "\n",
    "Zobacz: <https://pandas.pydata.org/pandas-docs/stable/reference/api/pandas.DataFrame.html>"
   ]
  },
  {
   "cell_type": "markdown",
   "metadata": {
    "slideshow": {
     "slide_type": "-"
    }
   },
   "source": [
    "Informacje o nazwie i typie zmiennych (kolumn)"
   ]
  },
  {
   "cell_type": "code",
   "execution_count": null,
   "metadata": {},
   "outputs": [],
   "source": [
    "tips.info()     # informacje o zmiennych"
   ]
  },
  {
   "cell_type": "code",
   "execution_count": null,
   "metadata": {},
   "outputs": [],
   "source": [
    "tips.head()     # podgląd początku tabeli"
   ]
  },
  {
   "cell_type": "markdown",
   "metadata": {
    "slideshow": {
     "slide_type": "slide"
    }
   },
   "source": [
    "Podstawowe statystyki dotyczące zmiennych (kolumn)"
   ]
  },
  {
   "cell_type": "code",
   "execution_count": null,
   "metadata": {},
   "outputs": [],
   "source": [
    "tips.describe()   # domyślnie wynik tylko dla zmiennych liczbowych (ciągłych)"
   ]
  },
  {
   "cell_type": "code",
   "execution_count": null,
   "metadata": {},
   "outputs": [],
   "source": [
    "import numpy as np\n",
    "tips.describe(include=object)    # statystyki zm. nominalnych (typ object)"
   ]
  },
  {
   "cell_type": "code",
   "execution_count": null,
   "metadata": {
    "slideshow": {
     "slide_type": "slide"
    }
   },
   "outputs": [],
   "source": [
    "print('Max:')\n",
    "tips.max()           # maksimum wzgl. kolumn "
   ]
  },
  {
   "cell_type": "code",
   "execution_count": null,
   "metadata": {
    "slideshow": {
     "slide_type": "-"
    }
   },
   "outputs": [],
   "source": [
    "print('Średnie wartości w grupie mężczyzn:')\n",
    "tips[tips.sex == 'Male'][['tip', 'total_bill']].mean()"
   ]
  },
  {
   "cell_type": "markdown",
   "metadata": {
    "slideshow": {
     "slide_type": "slide"
    }
   },
   "source": [
    "## Wykresy , metoda plot()\n",
    "\n",
    "Rodzaje wykresów, argument `kind=`   \n",
    "  `'line'` (default), `'bar'`, `'hist'`, `'box'`, `'kde'`, `'area'`, `'pie'`, `'scatter'`\n",
    "  \n",
    "Wykresy są robione tylko dla zmiennych numerycznych"
   ]
  },
  {
   "cell_type": "code",
   "execution_count": null,
   "metadata": {},
   "outputs": [],
   "source": [
    "# wykres liniowy, domyślnie os x to indeksy Dataframe\n",
    "tips.plot()\n",
    "tips.head()"
   ]
  },
  {
   "cell_type": "markdown",
   "metadata": {
    "slideshow": {
     "slide_type": "slide"
    }
   },
   "source": [
    "Wykres rozrzutu (punktowy)"
   ]
  },
  {
   "cell_type": "code",
   "execution_count": null,
   "metadata": {
    "slideshow": {
     "slide_type": "-"
    }
   },
   "outputs": [],
   "source": [
    "tips.plot(kind='scatter', x='total_bill', y='tip', title='Wykres rozrzutu');"
   ]
  },
  {
   "cell_type": "markdown",
   "metadata": {
    "slideshow": {
     "slide_type": "slide"
    }
   },
   "source": [
    "Histogram"
   ]
  },
  {
   "cell_type": "code",
   "execution_count": null,
   "metadata": {
    "slideshow": {
     "slide_type": "-"
    }
   },
   "outputs": [],
   "source": [
    "tips[ tips.sex == 'Male'].plot(kind = 'hist', y = 'total_bill', title='Histogram');\n",
    "tips[ tips.sex == 'Female'].plot(kind = 'hist', y = 'total_bill');"
   ]
  },
  {
   "cell_type": "markdown",
   "metadata": {
    "slideshow": {
     "slide_type": "slide"
    }
   },
   "source": [
    "Wykres skrzynkowy"
   ]
  },
  {
   "cell_type": "code",
   "execution_count": null,
   "metadata": {
    "slideshow": {
     "slide_type": "-"
    }
   },
   "outputs": [],
   "source": [
    "tips.plot(kind='box');"
   ]
  },
  {
   "cell_type": "code",
   "execution_count": null,
   "metadata": {
    "slideshow": {
     "slide_type": "-"
    }
   },
   "outputs": [],
   "source": [
    "tips['total_bill'].plot(kind='box');"
   ]
  },
  {
   "cell_type": "markdown",
   "metadata": {
    "slideshow": {
     "slide_type": "slide"
    }
   },
   "source": [
    "## Grupowanie danych\n",
    "\n",
    "Operacja grupowania `groupby()` pozwala w wygodny sposób wykonać operacje na grupach danych (np. wyznaczyć wartość średnią w grupach)."
   ]
  },
  {
   "cell_type": "code",
   "execution_count": null,
   "metadata": {},
   "outputs": [],
   "source": [
    "tips_mean = tips.groupby(['sex']).mean()    # średnie wartości napiwków (tips) względem płci \n",
    "tips_mean  # wynik jest typu DataFrame"
   ]
  },
  {
   "cell_type": "code",
   "execution_count": null,
   "metadata": {},
   "outputs": [],
   "source": [
    "tips_mean['tip'].plot(kind='bar');"
   ]
  },
  {
   "cell_type": "code",
   "execution_count": null,
   "metadata": {
    "slideshow": {
     "slide_type": "slide"
    }
   },
   "outputs": [],
   "source": [
    "tips.groupby(['smoker', 'sex']).count()    # grupowanie po dwóch zmiennych "
   ]
  },
  {
   "cell_type": "code",
   "execution_count": null,
   "metadata": {},
   "outputs": [],
   "source": [
    "tips.groupby(['smoker', 'sex']).mean() "
   ]
  },
  {
   "cell_type": "code",
   "execution_count": null,
   "metadata": {},
   "outputs": [],
   "source": [
    "tips.groupby(['smoker', 'sex']).mean().plot(kind='bar');"
   ]
  },
  {
   "cell_type": "markdown",
   "metadata": {
    "slideshow": {
     "slide_type": "slide"
    }
   },
   "source": [
    "## Pakiet Seaborn\n",
    "\n",
    "Seaborn to biblioteka do wizualizacji danych bazująca na matplotlib, która udostępnia zestaw narzędzi do tworzenia typowych wykresów używanych w statystyce i analizie danych. Źródłem danych dla wykresów Seaborn mogą być serie i tabele Pandas.\n",
    "\n",
    "WWW: <https://seaborn.pydata.org/>  \n",
    "Tutorial: <https://seaborn.pydata.org/tutorial.html>  \n",
    "Rodzaje dostepnych wykresów, API <https://seaborn.pydata.org/api.html>\n",
    "\n"
   ]
  },
  {
   "cell_type": "code",
   "execution_count": null,
   "metadata": {},
   "outputs": [],
   "source": [
    "import numpy as np\n",
    "import pandas as pd\n",
    "import matplotlib.pyplot as plt\n",
    "\n",
    "import seaborn as sns\n",
    "sns.set(style=\"darkgrid\")     # ustawienie stylu"
   ]
  },
  {
   "cell_type": "code",
   "execution_count": null,
   "metadata": {},
   "outputs": [],
   "source": [
    "tips = pd.read_csv('https://raw.githubusercontent.com/mwaskom/seaborn-data/master/tips.csv')\n",
    "tips.head()"
   ]
  },
  {
   "cell_type": "markdown",
   "metadata": {
    "slideshow": {
     "slide_type": "slide"
    }
   },
   "source": [
    "### Wykres rozkładu danych\n",
    "\n",
    "histogram, estymacja gęstości `displot(), histplot()`"
   ]
  },
  {
   "cell_type": "code",
   "execution_count": null,
   "metadata": {},
   "outputs": [],
   "source": [
    "# histogram z dopasowanymym wykresem rozkładu gęstości dla pojedynczej zmiennej\n",
    "sns.displot(data=tips, x='total_bill', kde=True);"
   ]
  },
  {
   "cell_type": "markdown",
   "metadata": {
    "slideshow": {
     "slide_type": "slide"
    }
   },
   "source": [
    "Wtkres skrzynkowy `boxplot`"
   ]
  },
  {
   "cell_type": "code",
   "execution_count": null,
   "metadata": {},
   "outputs": [],
   "source": [
    "sns.boxplot(data=tips, y='tip');"
   ]
  },
  {
   "cell_type": "code",
   "execution_count": null,
   "metadata": {
    "slideshow": {
     "slide_type": "-"
    }
   },
   "outputs": [],
   "source": [
    "# wykres skrzynkowy w grupach utworzonych przez zmienną 'sex'\n",
    "sns.boxplot(data=tips, y='tip', x='sex');"
   ]
  },
  {
   "cell_type": "markdown",
   "metadata": {
    "slideshow": {
     "slide_type": "slide"
    }
   },
   "source": [
    "### Wykresy relacji dwóch zmiennych"
   ]
  },
  {
   "cell_type": "code",
   "execution_count": null,
   "metadata": {},
   "outputs": [],
   "source": [
    "sns.scatterplot(data=tips, x=\"total_bill\", y=\"tip\");  # wykres rozrzutu"
   ]
  },
  {
   "cell_type": "markdown",
   "metadata": {
    "slideshow": {
     "slide_type": "slide"
    }
   },
   "source": [
    "Wykres rozrzutu z podziałem na grupy"
   ]
  },
  {
   "cell_type": "code",
   "execution_count": null,
   "metadata": {
    "slideshow": {
     "slide_type": "-"
    }
   },
   "outputs": [],
   "source": [
    "sns.scatterplot(data=tips, x=\"total_bill\", y=\"tip\", hue='sex');  # grupy w różnych kolorach"
   ]
  },
  {
   "cell_type": "markdown",
   "metadata": {},
   "source": [
    "Funkcja `relplot()` - ogólna funkcja do wizualizacji zależności pozwala również podzielić wykresy w kolumnach"
   ]
  },
  {
   "cell_type": "code",
   "execution_count": null,
   "metadata": {
    "slideshow": {
     "slide_type": "-"
    }
   },
   "outputs": [],
   "source": [
    "sns.relplot(x=\"total_bill\", y=\"tip\", data=tips, col='sex', kind='scatter'); \n"
   ]
  },
  {
   "cell_type": "markdown",
   "metadata": {
    "slideshow": {
     "slide_type": "slide"
    }
   },
   "source": [
    "pairplot() - wykres relacji wszystkich par zmiennych numerycznych"
   ]
  },
  {
   "cell_type": "code",
   "execution_count": null,
   "metadata": {},
   "outputs": [],
   "source": [
    "sns.pairplot(tips);"
   ]
  },
  {
   "cell_type": "markdown",
   "metadata": {
    "slideshow": {
     "slide_type": "slide"
    }
   },
   "source": [
    "regplt() - wykres z regresja liniową"
   ]
  },
  {
   "cell_type": "code",
   "execution_count": null,
   "metadata": {},
   "outputs": [],
   "source": [
    "sns.regplot(x=\"total_bill\", y=\"tip\", data=tips); "
   ]
  },
  {
   "cell_type": "markdown",
   "metadata": {
    "slideshow": {
     "slide_type": "slide"
    }
   },
   "source": [
    "### Wykresy zmiennych dyskretnych: "
   ]
  },
  {
   "cell_type": "code",
   "execution_count": null,
   "metadata": {},
   "outputs": [],
   "source": [
    "# wykres słópkowy liczby próbek w grupach \n",
    "sns.countplot(data=tips, x=\"sex\");"
   ]
  },
  {
   "cell_type": "code",
   "execution_count": null,
   "metadata": {
    "slideshow": {
     "slide_type": "slide"
    }
   },
   "outputs": [],
   "source": [
    "# to samo w podziale na grupy 'time' \n",
    "# catplot() ogólna funkcja dla zmiennych kategorycznych, pozwala rozdzielić wykresy w kolumnach\n",
    "sns.catplot(data=tips, kind=\"count\", x=\"sex\", col=\"time\");"
   ]
  },
  {
   "cell_type": "markdown",
   "metadata": {
    "slideshow": {
     "slide_type": "slide"
    }
   },
   "source": [
    "## Zadanie\n",
    "\n",
    "Korzystając z pakietu Pandas oraz Seaborn wykonaj eksplorację danych dotyczących chorób serca zawartych w pliku:\n",
    "<https://www.fizyka.umk.pl/~grochu/wdm/files/heart-cleveland.csv>\n",
    "\n",
    "Dane zawierają 303 przypadki opisane 12 zmiennymi. Ostatnia zmienna zawiera informacje o występowaniu schorzenia serca (wartości `absence`, `presence`)\n",
    "\n",
    "1. `age`  - wiek\n",
    "2. `sex` - płeć (male, female) \n",
    "3. `cp` -  rodzaj bólu klatki piersiowej (chest pain type: typical angina, atypical angina, non-anginal pain, asymptomatic)\n",
    "4. `trestbps` -  ciśnienie krwi (resting blood pressure (in mm Hg on admission to the hospital)) \n",
    "5. `chol` -   cholesterol  (serum cholestoral in mg/dl )\n",
    "6. `fbs` -   poziom cukru  we krwi (fasting blood sugar > 120 mg/dl (true or false) )\n",
    "7. `restecg` - wynik badań kardiograficznych (normal, left_vent_hyper, st_t_wave_abnormality)\n",
    "8. `thalac` -`maksymalne tętno\n",
    "9. `exang` - angina wywołana wysiłkiem fizycznym (yes, no)\n",
    "10. `oldpeak` -  głebokość odcinka ST na wykresie EKG (ST depression induced by exercise relative to rest)\n",
    "11. `slope` -  nachylenie odcinka ST na wykresie EKG (the slope of the peak exercise ST segment (upsloping, flat, downsloping))\n",
    "12. `class`  - przewidywana wartość, występowanie schorzenia (absence, presence)\n"
   ]
  },
  {
   "cell_type": "markdown",
   "metadata": {
    "slideshow": {
     "slide_type": "slide"
    }
   },
   "source": [
    "1. Zaimportuj dane do tablicy DataFrame"
   ]
  },
  {
   "cell_type": "code",
   "execution_count": null,
   "metadata": {},
   "outputs": [],
   "source": [
    "\n",
    "\n"
   ]
  },
  {
   "cell_type": "markdown",
   "metadata": {
    "slideshow": {
     "slide_type": "-"
    }
   },
   "source": [
    "2. Wyświetl informacje o nazwie i typie wszystkich zmiennych"
   ]
  },
  {
   "cell_type": "code",
   "execution_count": null,
   "metadata": {},
   "outputs": [],
   "source": [
    "\n",
    "\n"
   ]
  },
  {
   "cell_type": "markdown",
   "metadata": {
    "slideshow": {
     "slide_type": "-"
    }
   },
   "source": [
    "3. Za pomocą funkcji [describe()](https://pandas.pydata.org/pandas-docs/stable/reference/api/pandas.DataFrame.describe.html) wyświetl statystyki opisowe (min, max, mean, ...) dotyczące zmiennych numerycznych oraz osobno informacje o częstości występowania zmiennych dyskretnych (count, unique, freq)"
   ]
  },
  {
   "cell_type": "code",
   "execution_count": null,
   "metadata": {},
   "outputs": [],
   "source": [
    "\n",
    "\n"
   ]
  },
  {
   "cell_type": "markdown",
   "metadata": {
    "slideshow": {
     "slide_type": "-"
    }
   },
   "source": [
    "4. Jaki jest średni poziom cholesterolu (`chol`) dla każdej płci (`sex`) ?   \n",
    "Wynik przestaw w postaci liczbowej oraz za pomocą stosowanego wykresu (np. słupkowego)"
   ]
  },
  {
   "cell_type": "code",
   "execution_count": null,
   "metadata": {},
   "outputs": [],
   "source": [
    "\n",
    "\n"
   ]
  },
  {
   "cell_type": "markdown",
   "metadata": {
    "slideshow": {
     "slide_type": "slide"
    }
   },
   "source": [
    "5. Użyj wykresu [pairplot()](https://seaborn.pydata.org/generated/seaborn.pairplot.html#seaborn.pairplot) do wizualizacji zależności pomiędzy zmiennymi numerycznymi. "
   ]
  },
  {
   "cell_type": "code",
   "execution_count": null,
   "metadata": {},
   "outputs": [],
   "source": [
    "\n",
    "\n",
    "\n"
   ]
  },
  {
   "cell_type": "markdown",
   "metadata": {
    "slideshow": {
     "slide_type": "-"
    }
   },
   "source": [
    "6. Korzystając z poprzedniego wykresu wybierz parę zmiennych o największej korelacji, tzn. podsiadających najbardziej wyraźną liniową zależność. Dla wybranej pary zmiennych stwórz wykres z naniesioną linią regresyjną (zob. funkcję [regplot()](https://seaborn.pydata.org/generated/seaborn.regplot.html#seaborn.regplot))"
   ]
  },
  {
   "cell_type": "code",
   "execution_count": null,
   "metadata": {},
   "outputs": [],
   "source": [
    "\n",
    "\n"
   ]
  },
  {
   "cell_type": "markdown",
   "metadata": {
    "slideshow": {
     "slide_type": "slide"
    }
   },
   "source": [
    "7.  Użyj wykresu [pairplot()](https://seaborn.pydata.org/generated/seaborn.pairplot.html#seaborn.pairplot) do zobrazowania różnic w rozkładzie danych pacjentów zdrowych i chorych (zmienna `class=['absebce', 'presence']`). Grupy pacjentów powinny być wyraźnie wyróżnione (np. kolorem)"
   ]
  },
  {
   "cell_type": "code",
   "execution_count": null,
   "metadata": {},
   "outputs": [],
   "source": [
    "\n",
    "\n"
   ]
  },
  {
   "cell_type": "markdown",
   "metadata": {
    "slideshow": {
     "slide_type": "-"
    }
   },
   "source": [
    "8. Na podstawie poprzedniego wykresu wybierz parę zmiennych, która najlepiej separuje obie grupy.  \n",
    "Dla wybranej pary zmiennych:  \n",
    "* wartość średnią w grupie chorych i w grupie zdrowych\n",
    "* utwórz wykres skrzynkowy [boxplot()](https://seaborn.pydata.org/generated/seaborn.boxplot.html) prezentujący rozkład wartości osobno w grupie zdrowych i chorych"
   ]
  },
  {
   "cell_type": "code",
   "execution_count": null,
   "metadata": {},
   "outputs": [],
   "source": [
    "\n",
    "\n"
   ]
  }
 ],
 "metadata": {
  "kernelspec": {
   "display_name": "Python 3 (ipykernel)",
   "language": "python",
   "name": "python3"
  },
  "language_info": {
   "codemirror_mode": {
    "name": "ipython",
    "version": 3
   },
   "file_extension": ".py",
   "mimetype": "text/x-python",
   "name": "python",
   "nbconvert_exporter": "python",
   "pygments_lexer": "ipython3",
   "version": "3.9.7"
  },
  "varInspector": {
   "cols": {
    "lenName": 16,
    "lenType": 16,
    "lenVar": 40
   },
   "kernels_config": {
    "python": {
     "delete_cmd_postfix": "",
     "delete_cmd_prefix": "del ",
     "library": "var_list.py",
     "varRefreshCmd": "print(var_dic_list())"
    },
    "r": {
     "delete_cmd_postfix": ") ",
     "delete_cmd_prefix": "rm(",
     "library": "var_list.r",
     "varRefreshCmd": "cat(var_dic_list()) "
    }
   },
   "types_to_exclude": [
    "module",
    "function",
    "builtin_function_or_method",
    "instance",
    "_Feature"
   ],
   "window_display": false
  }
 },
 "nbformat": 4,
 "nbformat_minor": 4
}
